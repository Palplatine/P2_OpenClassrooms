{
 "cells": [
  {
   "cell_type": "markdown",
   "id": "430716d0",
   "metadata": {},
   "source": [
    "# Analysez des données de systèmes éducatifs"
   ]
  },
  {
   "cell_type": "markdown",
   "id": "8797f0d7",
   "metadata": {},
   "source": [
    "Importation des modules nécessaires à notre analyse."
   ]
  },
  {
   "cell_type": "code",
   "execution_count": 1,
   "id": "06841117",
   "metadata": {},
   "outputs": [],
   "source": [
    "import pandas as pd\n",
    "import numpy as np\n",
    "import sklearn\n",
    "from sklearn.impute import KNNImputer\n",
    "\n",
    "import matplotlib\n",
    "import matplotlib.pyplot as plt\n",
    "import matplotlib.ticker as mticker\n",
    "import seaborn as sns\n",
    "import missingno as msno\n",
    "\n",
    "import pygal"
   ]
  },
  {
   "cell_type": "code",
   "execution_count": 2,
   "id": "8f2796b6",
   "metadata": {},
   "outputs": [
    {
     "name": "stdout",
     "output_type": "stream",
     "text": [
      "pandas version :  1.2.4 \n",
      "\n",
      "numpy version :  1.20.1 \n",
      "\n",
      "sklearn version :  1.20.1 \n",
      "\n",
      "matplotlib version :  3.3.4 \n",
      "\n",
      "seaborn version :  0.11.1 \n",
      "\n",
      "missingno version :  0.5.0 \n",
      "\n",
      "pygal version :  2.4.0\n"
     ]
    }
   ],
   "source": [
    "print('pandas version : ', pd.__version__, '\\n')\n",
    "print('numpy version : ', np.__version__, '\\n')\n",
    "print('sklearn version : ', np.__version__, '\\n')\n",
    "print('matplotlib version : ', matplotlib.__version__, '\\n')\n",
    "print('seaborn version : ', sns.__version__, '\\n')\n",
    "print('missingno version : ', msno.__version__, '\\n')\n",
    "print('pygal version : ', pygal.__version__)"
   ]
  },
  {
   "cell_type": "markdown",
   "id": "497d8eb9",
   "metadata": {},
   "source": [
    "Importation et première analyse des jeux de données."
   ]
  },
  {
   "cell_type": "code",
   "execution_count": 3,
   "id": "f2cb468b",
   "metadata": {},
   "outputs": [],
   "source": [
    "ed_stats_data = pd.read_csv('EdStatsData.csv')\n",
    "ed_stats_country = pd.read_csv('EdStatsCountry.csv')\n",
    "ed_stats_country_series = pd.read_csv('EdStatsCountry-Series.csv')\n",
    "ed_stats_footnote = pd.read_csv('EdStatsFootNote.csv')\n",
    "ed_stats_series = pd.read_csv('EdStatsSeries.csv')"
   ]
  },
  {
   "cell_type": "code",
   "execution_count": 4,
   "id": "89e32792",
   "metadata": {},
   "outputs": [
    {
     "name": "stdout",
     "output_type": "stream",
     "text": [
      "(886930, 70) \n",
      "\n",
      "Index(['Country Name', 'Country Code', 'Indicator Name', 'Indicator Code',\n",
      "       '1970', '1971', '1972', '1973', '1974', '1975', '1976', '1977', '1978',\n",
      "       '1979', '1980', '1981', '1982', '1983', '1984', '1985', '1986', '1987',\n",
      "       '1988', '1989', '1990', '1991', '1992', '1993', '1994', '1995', '1996',\n",
      "       '1997', '1998', '1999', '2000', '2001', '2002', '2003', '2004', '2005',\n",
      "       '2006', '2007', '2008', '2009', '2010', '2011', '2012', '2013', '2014',\n",
      "       '2015', '2016', '2017', '2020', '2025', '2030', '2035', '2040', '2045',\n",
      "       '2050', '2055', '2060', '2065', '2070', '2075', '2080', '2085', '2090',\n",
      "       '2095', '2100', 'Unnamed: 69'],\n",
      "      dtype='object')\n",
      "(241, 32) \n",
      "\n",
      "Index(['Country Code', 'Short Name', 'Table Name', 'Long Name', '2-alpha code',\n",
      "       'Currency Unit', 'Special Notes', 'Region', 'Income Group', 'WB-2 code',\n",
      "       'National accounts base year', 'National accounts reference year',\n",
      "       'SNA price valuation', 'Lending category', 'Other groups',\n",
      "       'System of National Accounts', 'Alternative conversion factor',\n",
      "       'PPP survey year', 'Balance of Payments Manual in use',\n",
      "       'External debt Reporting status', 'System of trade',\n",
      "       'Government Accounting concept', 'IMF data dissemination standard',\n",
      "       'Latest population census', 'Latest household survey',\n",
      "       'Source of most recent Income and expenditure data',\n",
      "       'Vital registration complete', 'Latest agricultural census',\n",
      "       'Latest industrial data', 'Latest trade data',\n",
      "       'Latest water withdrawal data', 'Unnamed: 31'],\n",
      "      dtype='object')\n",
      "(613, 4) \n",
      "\n",
      "Index(['CountryCode', 'SeriesCode', 'DESCRIPTION', 'Unnamed: 3'], dtype='object')\n",
      "(643638, 5) \n",
      "\n",
      "Index(['CountryCode', 'SeriesCode', 'Year', 'DESCRIPTION', 'Unnamed: 4'], dtype='object')\n",
      "(3665, 21) \n",
      "\n",
      "Index(['Series Code', 'Topic', 'Indicator Name', 'Short definition',\n",
      "       'Long definition', 'Unit of measure', 'Periodicity', 'Base Period',\n",
      "       'Other notes', 'Aggregation method', 'Limitations and exceptions',\n",
      "       'Notes from original source', 'General comments', 'Source',\n",
      "       'Statistical concept and methodology', 'Development relevance',\n",
      "       'Related source links', 'Other web links', 'Related indicators',\n",
      "       'License Type', 'Unnamed: 20'],\n",
      "      dtype='object')\n"
     ]
    }
   ],
   "source": [
    "liste_df = [ed_stats_data, ed_stats_country, ed_stats_country_series, ed_stats_footnote, ed_stats_series]\n",
    "\n",
    "for df in liste_df:\n",
    "    print(df.shape,'\\n')\n",
    "    print(df.columns)"
   ]
  },
  {
   "cell_type": "markdown",
   "id": "faa98da9",
   "metadata": {},
   "source": [
    "Dans un premier temps, nous allons garder les données numériques de *ed_stats_data* comprises entre 1970 et 2030.  A la lecture des colonnes des autres jeux de données, nous n'allons garder que les colonnes \"Region\", \"Country Code\" et \"Income Group\" de *ed_stats_country*."
   ]
  },
  {
   "cell_type": "code",
   "execution_count": 5,
   "id": "ef9ca1f2",
   "metadata": {},
   "outputs": [],
   "source": [
    "ed_stats_data_dropped = ed_stats_data.drop(columns = ['Indicator Code', '1970', '1971', '1972', '1973', '1974',\\\n",
    "                                                      '1975', '1976', '1977', '1978', '1979',\\\n",
    "                                                      '1980', '1981', '1982', '1983', '1984',\\\n",
    "                                                      '1985', '1986', '1987', '1988', '1989',\\\n",
    "                                                      '2035', '2040', '2045', '2050', '2055',\\\n",
    "                                                      '2060', '2065', '2070', '2075', '2080',\\\n",
    "                                                      '2085', '2090', '2095', '2100', 'Unnamed: 69'])"
   ]
  },
  {
   "cell_type": "code",
   "execution_count": 6,
   "id": "72144aa8",
   "metadata": {},
   "outputs": [],
   "source": [
    "ed_stats_country_dropped = \\\n",
    "ed_stats_country.drop(columns = ['Short Name', 'Table Name', 'Long Name', '2-alpha code', 'Currency Unit',\\\n",
    "                                 'Special Notes', 'WB-2 code', 'National accounts base year',\\\n",
    "                                 'National accounts reference year', 'SNA price valuation',\\\n",
    "                                 'Lending category', 'Other groups', 'System of National Accounts',\\\n",
    "                                 'Alternative conversion factor', 'PPP survey year',\\\n",
    "                                 'Balance of Payments Manual in use', 'External debt Reporting status',\\\n",
    "                                 'System of trade', 'Government Accounting concept',\\\n",
    "                                 'IMF data dissemination standard', 'Latest population census',\\\n",
    "                                 'Latest household survey', 'Source of most recent Income and expenditure data',\\\n",
    "                                 'Vital registration complete', 'Latest agricultural census',\\\n",
    "                                 'Latest industrial data', 'Latest trade data',\\\n",
    "                                 'Latest water withdrawal data', 'Unnamed: 31'])"
   ]
  },
  {
   "cell_type": "code",
   "execution_count": 7,
   "id": "b3923865",
   "metadata": {},
   "outputs": [
    {
     "name": "stdout",
     "output_type": "stream",
     "text": [
      "Index(['Country Name', 'Country Code', 'Indicator Name', '1990', '1991',\n",
      "       '1992', '1993', '1994', '1995', '1996', '1997', '1998', '1999', '2000',\n",
      "       '2001', '2002', '2003', '2004', '2005', '2006', '2007', '2008', '2009',\n",
      "       '2010', '2011', '2012', '2013', '2014', '2015', '2016', '2017', '2020',\n",
      "       '2025', '2030', 'Region', 'Income Group'],\n",
      "      dtype='object') \n",
      "\n",
      "(886930, 36)\n"
     ]
    }
   ],
   "source": [
    "#On joint les deux jeux de données sur 'Country Code'\n",
    "\n",
    "df_merged = ed_stats_data_dropped.merge(ed_stats_country_dropped, on = 'Country Code', how = 'left')\n",
    "\n",
    "print(df_merged.columns, '\\n')\n",
    "print(df_merged.shape)"
   ]
  },
  {
   "cell_type": "markdown",
   "id": "00cdb511",
   "metadata": {},
   "source": [
    "## Choix des indicateurs et gestion des données manquantes"
   ]
  },
  {
   "cell_type": "markdown",
   "id": "5fabdd49",
   "metadata": {},
   "source": [
    "En allant sur le site de la Banque Mondiale, nous avons décidé de garder 6 indicateurs :\n",
    "- Population growth (annual %),\n",
    "- Population, total,\n",
    "- Government expenditure on education as % of GDP (%),\n",
    "- GDP per capita, PPP (current international $),\n",
    "- Internet users (per 100 people),\n",
    "- Enrolment in tertiary education, all programmes, both sexes (number)."
   ]
  },
  {
   "cell_type": "code",
   "execution_count": 8,
   "id": "f987de53",
   "metadata": {},
   "outputs": [],
   "source": [
    "df_merged = df_merged.set_index('Indicator Name')"
   ]
  },
  {
   "cell_type": "code",
   "execution_count": 9,
   "id": "5a896165",
   "metadata": {},
   "outputs": [],
   "source": [
    "df_merged = df_merged.loc[[\"Population growth (annual %)\",\"Population, total\",\\\n",
    "                           \"Government expenditure on education as % of GDP (%)\",\\\n",
    "                           \"GDP per capita, PPP (current international $)\",\"Internet users (per 100 people)\",\\\n",
    "                           \"Enrolment in tertiary education, all programmes, both sexes (number)\"],:] "
   ]
  },
  {
   "cell_type": "code",
   "execution_count": 10,
   "id": "e54c9c00",
   "metadata": {},
   "outputs": [
    {
     "data": {
      "text/plain": [
       "array(['Population growth (annual %)', 'Population, total',\n",
       "       'Government expenditure on education as % of GDP (%)',\n",
       "       'GDP per capita, PPP (current international $)',\n",
       "       'Internet users (per 100 people)',\n",
       "       'Enrolment in tertiary education, all programmes, both sexes (number)'],\n",
       "      dtype=object)"
      ]
     },
     "execution_count": 10,
     "metadata": {},
     "output_type": "execute_result"
    }
   ],
   "source": [
    "df_merged.reset_index(inplace=True)\n",
    "df_merged['Indicator Name'].unique()"
   ]
  },
  {
   "cell_type": "markdown",
   "id": "6131642d",
   "metadata": {},
   "source": [
    "Vérifions si nous avons des duplicatas dans nos données."
   ]
  },
  {
   "cell_type": "code",
   "execution_count": 11,
   "id": "b4882046",
   "metadata": {},
   "outputs": [
    {
     "data": {
      "text/plain": [
       "0"
      ]
     },
     "execution_count": 11,
     "metadata": {},
     "output_type": "execute_result"
    }
   ],
   "source": [
    "df_merged.duplicated().sum()"
   ]
  },
  {
   "cell_type": "markdown",
   "id": "c46cc5e5",
   "metadata": {},
   "source": [
    "Voyons maintenant combien de données manquantes nous avons dans notre jeu de données :"
   ]
  },
  {
   "cell_type": "code",
   "execution_count": 12,
   "id": "2a73632a",
   "metadata": {},
   "outputs": [
    {
     "name": "stdout",
     "output_type": "stream",
     "text": [
      "<class 'pandas.core.frame.DataFrame'>\n",
      "RangeIndex: 1452 entries, 0 to 1451\n",
      "Data columns (total 36 columns):\n",
      " #   Column          Non-Null Count  Dtype  \n",
      "---  ------          --------------  -----  \n",
      " 0   Indicator Name  1452 non-null   object \n",
      " 1   Country Name    1452 non-null   object \n",
      " 2   Country Code    1452 non-null   object \n",
      " 3   1990            1096 non-null   float64\n",
      " 4   1991            913 non-null    float64\n",
      " 5   1992            926 non-null    float64\n",
      " 6   1993            942 non-null    float64\n",
      " 7   1994            977 non-null    float64\n",
      " 8   1995            1053 non-null   float64\n",
      " 9   1996            1086 non-null   float64\n",
      " 10  1997            1033 non-null   float64\n",
      " 11  1998            1098 non-null   float64\n",
      " 12  1999            1183 non-null   float64\n",
      " 13  2000            1182 non-null   float64\n",
      " 14  2001            1180 non-null   float64\n",
      " 15  2002            1202 non-null   float64\n",
      " 16  2003            1184 non-null   float64\n",
      " 17  2004            1199 non-null   float64\n",
      " 18  2005            1183 non-null   float64\n",
      " 19  2006            1182 non-null   float64\n",
      " 20  2007            1190 non-null   float64\n",
      " 21  2008            1205 non-null   float64\n",
      " 22  2009            1206 non-null   float64\n",
      " 23  2010            1215 non-null   float64\n",
      " 24  2011            1213 non-null   float64\n",
      " 25  2012            1197 non-null   float64\n",
      " 26  2013            1191 non-null   float64\n",
      " 27  2014            1132 non-null   float64\n",
      " 28  2015            1054 non-null   float64\n",
      " 29  2016            901 non-null    float64\n",
      " 30  2017            0 non-null      float64\n",
      " 31  2020            0 non-null      float64\n",
      " 32  2025            0 non-null      float64\n",
      " 33  2030            0 non-null      float64\n",
      " 34  Region          1284 non-null   object \n",
      " 35  Income Group    1284 non-null   object \n",
      "dtypes: float64(31), object(5)\n",
      "memory usage: 408.5+ KB\n",
      "None \n",
      "\n",
      "Indicator Name    0.000000\n",
      "Country Name      0.000000\n",
      "Country Code      0.000000\n",
      "1990              0.245179\n",
      "1991              0.371212\n",
      "1992              0.362259\n",
      "1993              0.351240\n",
      "1994              0.327135\n",
      "1995              0.274793\n",
      "1996              0.252066\n",
      "1997              0.288567\n",
      "1998              0.243802\n",
      "1999              0.185262\n",
      "2000              0.185950\n",
      "2001              0.187328\n",
      "2002              0.172176\n",
      "2003              0.184573\n",
      "2004              0.174242\n",
      "2005              0.185262\n",
      "2006              0.185950\n",
      "2007              0.180441\n",
      "2008              0.170110\n",
      "2009              0.169421\n",
      "2010              0.163223\n",
      "2011              0.164601\n",
      "2012              0.175620\n",
      "2013              0.179752\n",
      "2014              0.220386\n",
      "2015              0.274105\n",
      "2016              0.379477\n",
      "2017              1.000000\n",
      "2020              1.000000\n",
      "2025              1.000000\n",
      "2030              1.000000\n",
      "Region            0.115702\n",
      "Income Group      0.115702\n",
      "dtype: float64\n"
     ]
    }
   ],
   "source": [
    "print(df_merged.info(),'\\n')\n",
    "print(df_merged.isnull().mean())"
   ]
  },
  {
   "cell_type": "code",
   "execution_count": 13,
   "id": "6703be52",
   "metadata": {},
   "outputs": [
    {
     "data": {
      "text/plain": [
       "<AxesSubplot:>"
      ]
     },
     "execution_count": 13,
     "metadata": {},
     "output_type": "execute_result"
    },
    {
     "data": {
      "image/png": "[encoded data removed]",
      "text/plain": [
       "<Figure size 1800x720 with 2 Axes>"
      ]
     },
     "metadata": {
      "needs_background": "light"
     },
     "output_type": "display_data"
    }
   ],
   "source": [
    "msno.matrix(df_merged)"
   ]
  },
  {
   "cell_type": "markdown",
   "id": "f7db083c",
   "metadata": {},
   "source": [
    "Nous allons supprimer les colonnes avec plus de 30% de valeurs manquantes ainsi que les colonnes \"1995\" à \"1999\" car l'indicateur \"Internet users (per 100 people)\" aurait peu d'intérêt.\n",
    "\n",
    "Nous en profitons pour supprimer \"Country Code\" et \"Indicator Code\" que nous n'allons plus utiliser."
   ]
  },
  {
   "cell_type": "code",
   "execution_count": 14,
   "id": "14f995bc",
   "metadata": {},
   "outputs": [],
   "source": [
    "df_merged = df_merged.drop(columns = ['Country Code', '1990', '1991','1992', '1993', '1994',\\\n",
    "                                      '1995', '1996','1997','1998','1999','2016', '2017', '2020',\\\n",
    "                                      '2025', '2030'])"
   ]
  },
  {
   "cell_type": "code",
   "execution_count": 15,
   "id": "a811c729",
   "metadata": {},
   "outputs": [
    {
     "name": "stdout",
     "output_type": "stream",
     "text": [
      "<class 'pandas.core.frame.DataFrame'>\n",
      "RangeIndex: 1452 entries, 0 to 1451\n",
      "Data columns (total 20 columns):\n",
      " #   Column          Non-Null Count  Dtype  \n",
      "---  ------          --------------  -----  \n",
      " 0   Indicator Name  1452 non-null   object \n",
      " 1   Country Name    1452 non-null   object \n",
      " 2   2000            1182 non-null   float64\n",
      " 3   2001            1180 non-null   float64\n",
      " 4   2002            1202 non-null   float64\n",
      " 5   2003            1184 non-null   float64\n",
      " 6   2004            1199 non-null   float64\n",
      " 7   2005            1183 non-null   float64\n",
      " 8   2006            1182 non-null   float64\n",
      " 9   2007            1190 non-null   float64\n",
      " 10  2008            1205 non-null   float64\n",
      " 11  2009            1206 non-null   float64\n",
      " 12  2010            1215 non-null   float64\n",
      " 13  2011            1213 non-null   float64\n",
      " 14  2012            1197 non-null   float64\n",
      " 15  2013            1191 non-null   float64\n",
      " 16  2014            1132 non-null   float64\n",
      " 17  2015            1054 non-null   float64\n",
      " 18  Region          1284 non-null   object \n",
      " 19  Income Group    1284 non-null   object \n",
      "dtypes: float64(16), object(4)\n",
      "memory usage: 227.0+ KB\n",
      "None \n",
      "\n",
      "Indicator Name    0.000000\n",
      "Country Name      0.000000\n",
      "2000              0.185950\n",
      "2001              0.187328\n",
      "2002              0.172176\n",
      "2003              0.184573\n",
      "2004              0.174242\n",
      "2005              0.185262\n",
      "2006              0.185950\n",
      "2007              0.180441\n",
      "2008              0.170110\n",
      "2009              0.169421\n",
      "2010              0.163223\n",
      "2011              0.164601\n",
      "2012              0.175620\n",
      "2013              0.179752\n",
      "2014              0.220386\n",
      "2015              0.274105\n",
      "Region            0.115702\n",
      "Income Group      0.115702\n",
      "dtype: float64\n"
     ]
    }
   ],
   "source": [
    "print(df_merged.info(),'\\n')\n",
    "print(df_merged.isnull().mean())"
   ]
  },
  {
   "cell_type": "markdown",
   "id": "9bebfe18",
   "metadata": {},
   "source": [
    "Regardons le noms des pays des valeurs manquantes de la colonne \"Region\", elles ont l'air de suivre un pattern."
   ]
  },
  {
   "cell_type": "code",
   "execution_count": 16,
   "id": "991e4643",
   "metadata": {},
   "outputs": [
    {
     "data": {
      "text/plain": [
       "array(['Arab World', 'East Asia & Pacific',\n",
       "       'East Asia & Pacific (excluding high income)', 'Euro area',\n",
       "       'Europe & Central Asia',\n",
       "       'Europe & Central Asia (excluding high income)', 'European Union',\n",
       "       'Heavily indebted poor countries (HIPC)', 'High income',\n",
       "       'Latin America & Caribbean',\n",
       "       'Latin America & Caribbean (excluding high income)',\n",
       "       'Least developed countries: UN classification',\n",
       "       'Low & middle income', 'Low income', 'Lower middle income',\n",
       "       'Middle East & North Africa',\n",
       "       'Middle East & North Africa (excluding high income)',\n",
       "       'Middle income', 'North America', 'OECD members', 'South Asia',\n",
       "       'Sub-Saharan Africa', 'Sub-Saharan Africa (excluding high income)',\n",
       "       'Upper middle income', 'World', 'British Virgin Islands',\n",
       "       'Gibraltar', 'Nauru'], dtype=object)"
      ]
     },
     "execution_count": 16,
     "metadata": {},
     "output_type": "execute_result"
    }
   ],
   "source": [
    "df_merged[df_merged['Region'].isnull()]['Country Name'].unique()"
   ]
  },
  {
   "cell_type": "markdown",
   "id": "262489e6",
   "metadata": {},
   "source": [
    "On peut remarquer que les valeurs manquantes ne correspondent pas à des pays à proprement parler mais à des zones géographiques et à des petits territoires.  Nous supprimons toutes ces lignes."
   ]
  },
  {
   "cell_type": "code",
   "execution_count": 17,
   "id": "fc3ef08a",
   "metadata": {},
   "outputs": [],
   "source": [
    "df_merged = df_merged.dropna(subset=['Region'], axis=0)"
   ]
  },
  {
   "cell_type": "markdown",
   "id": "2887b78c",
   "metadata": {},
   "source": [
    "Comme les lignes avec beaucoup de valeurs manquantes ne nous intéressent pas, nous allons les supprimer.  Mais, regardons d'abord l'effet que cela aurait sur notre Dataframe."
   ]
  },
  {
   "cell_type": "code",
   "execution_count": 18,
   "id": "cb5ea46d",
   "metadata": {},
   "outputs": [
    {
     "data": {
      "text/plain": [
       "(1284, 20)"
      ]
     },
     "execution_count": 18,
     "metadata": {},
     "output_type": "execute_result"
    }
   ],
   "source": [
    "df_merged.shape"
   ]
  },
  {
   "cell_type": "code",
   "execution_count": 19,
   "id": "816649fa",
   "metadata": {},
   "outputs": [],
   "source": [
    "df_test = df_merged.copy()"
   ]
  },
  {
   "cell_type": "markdown",
   "id": "ccc6bd80",
   "metadata": {},
   "source": [
    "Regardons le nombre de lignes restantes selon le threshold (le nombre de valeurs non nulles) que nous imposons."
   ]
  },
  {
   "cell_type": "code",
   "execution_count": 20,
   "id": "051f46eb",
   "metadata": {},
   "outputs": [
    {
     "name": "stdout",
     "output_type": "stream",
     "text": [
      "Avec un threshold de 0 le dataframe aurait 1284 lignes\n",
      "Avec un threshold de 1 le dataframe aurait 1284 lignes\n",
      "Avec un threshold de 2 le dataframe aurait 1284 lignes\n",
      "Avec un threshold de 3 le dataframe aurait 1284 lignes\n",
      "Avec un threshold de 4 le dataframe aurait 1284 lignes\n",
      "Avec un threshold de 5 le dataframe aurait 1199 lignes\n",
      "Avec un threshold de 6 le dataframe aurait 1178 lignes\n",
      "Avec un threshold de 7 le dataframe aurait 1165 lignes\n",
      "Avec un threshold de 8 le dataframe aurait 1148 lignes\n",
      "Avec un threshold de 9 le dataframe aurait 1128 lignes\n",
      "Avec un threshold de 10 le dataframe aurait 1111 lignes\n",
      "Avec un threshold de 11 le dataframe aurait 1096 lignes\n",
      "Avec un threshold de 12 le dataframe aurait 1080 lignes\n",
      "Avec un threshold de 13 le dataframe aurait 1059 lignes\n",
      "Avec un threshold de 14 le dataframe aurait 1037 lignes\n",
      "Avec un threshold de 15 le dataframe aurait 1021 lignes\n",
      "Avec un threshold de 16 le dataframe aurait 1008 lignes\n"
     ]
    }
   ],
   "source": [
    "for val in range(17):\n",
    "    df_test.dropna(axis=0, thresh = val, inplace = True)\n",
    "    print(\"Avec un threshold de\",val,\"le dataframe aurait {} lignes\".format(df_test.shape[0]))"
   ]
  },
  {
   "cell_type": "markdown",
   "id": "3073cf74",
   "metadata": {},
   "source": [
    "Nous allons garder un threshold à 10 (soit 6 valeurs manquantes au maximum par ligne) afin de limiter la perte de lignes et de ne pas à avoir à remplacer trop de valeurs."
   ]
  },
  {
   "cell_type": "code",
   "execution_count": 21,
   "id": "e2e14353",
   "metadata": {},
   "outputs": [
    {
     "data": {
      "text/plain": [
       "(1111, 20)"
      ]
     },
     "execution_count": 21,
     "metadata": {},
     "output_type": "execute_result"
    }
   ],
   "source": [
    "df_merged.dropna(axis=0, thresh = 10, inplace=True)\n",
    "df_merged.shape"
   ]
  },
  {
   "cell_type": "code",
   "execution_count": 22,
   "id": "35a51a0c",
   "metadata": {},
   "outputs": [
    {
     "data": {
      "text/plain": [
       "<AxesSubplot:>"
      ]
     },
     "execution_count": 22,
     "metadata": {},
     "output_type": "execute_result"
    },
    {
     "data": {
      "image/png": "[encoded data removed]",
      "text/plain": [
       "<Figure size 1800x720 with 2 Axes>"
      ]
     },
     "metadata": {
      "needs_background": "light"
     },
     "output_type": "display_data"
    }
   ],
   "source": [
    "msno.matrix(df_merged)"
   ]
  },
  {
   "cell_type": "markdown",
   "id": "e7956e0a",
   "metadata": {},
   "source": [
    "Nous allons regarder quelques lignes en particulier pour voir si notre imputer remplit convenablement les valeurs manquantes, lorsque nous l'aurons mis en place."
   ]
  },
  {
   "cell_type": "code",
   "execution_count": 23,
   "id": "4cb5e5a5",
   "metadata": {},
   "outputs": [],
   "source": [
    "df_merged_verif = df_merged.copy()\n",
    "df_merged_verif.sort_values(by='2000', inplace=True)"
   ]
  },
  {
   "cell_type": "code",
   "execution_count": 24,
   "id": "3c3bf98e",
   "metadata": {},
   "outputs": [
    {
     "data": {
      "text/html": [
       "<div>\n",
       "<style scoped>\n",
       "    .dataframe tbody tr th:only-of-type {\n",
       "        vertical-align: middle;\n",
       "    }\n",
       "\n",
       "    .dataframe tbody tr th {\n",
       "        vertical-align: top;\n",
       "    }\n",
       "\n",
       "    .dataframe thead th {\n",
       "        text-align: right;\n",
       "    }\n",
       "</style>\n",
       "<table border=\"1\" class=\"dataframe\">\n",
       "  <thead>\n",
       "    <tr style=\"text-align: right;\">\n",
       "      <th></th>\n",
       "      <th>Indicator Name</th>\n",
       "      <th>Country Name</th>\n",
       "      <th>2000</th>\n",
       "      <th>2001</th>\n",
       "      <th>2002</th>\n",
       "      <th>2003</th>\n",
       "      <th>2004</th>\n",
       "      <th>2005</th>\n",
       "      <th>2006</th>\n",
       "      <th>2007</th>\n",
       "      <th>2008</th>\n",
       "      <th>2009</th>\n",
       "      <th>2010</th>\n",
       "      <th>2011</th>\n",
       "      <th>2012</th>\n",
       "      <th>2013</th>\n",
       "      <th>2014</th>\n",
       "      <th>2015</th>\n",
       "      <th>Region</th>\n",
       "      <th>Income Group</th>\n",
       "    </tr>\n",
       "  </thead>\n",
       "  <tbody>\n",
       "    <tr>\n",
       "      <th>75</th>\n",
       "      <td>Population growth (annual %)</td>\n",
       "      <td>Curacao</td>\n",
       "      <td>-4.075386</td>\n",
       "      <td>-3.771878</td>\n",
       "      <td>-0.078383</td>\n",
       "      <td>1.883489</td>\n",
       "      <td>1.594798</td>\n",
       "      <td>2.477253</td>\n",
       "      <td>2.534396</td>\n",
       "      <td>1.983521</td>\n",
       "      <td>1.350729</td>\n",
       "      <td>0.631919</td>\n",
       "      <td>2.317847</td>\n",
       "      <td>0.867561</td>\n",
       "      <td>0.954188</td>\n",
       "      <td>0.945169</td>\n",
       "      <td>NaN</td>\n",
       "      <td>NaN</td>\n",
       "      <td>Latin America &amp; Caribbean</td>\n",
       "      <td>High income: nonOECD</td>\n",
       "    </tr>\n",
       "    <tr>\n",
       "      <th>129</th>\n",
       "      <td>Population growth (annual %)</td>\n",
       "      <td>Kosovo</td>\n",
       "      <td>-3.582128</td>\n",
       "      <td>0.067859</td>\n",
       "      <td>0.067931</td>\n",
       "      <td>0.067885</td>\n",
       "      <td>0.067839</td>\n",
       "      <td>0.067910</td>\n",
       "      <td>0.803200</td>\n",
       "      <td>0.803262</td>\n",
       "      <td>0.803213</td>\n",
       "      <td>0.803172</td>\n",
       "      <td>0.803249</td>\n",
       "      <td>0.859067</td>\n",
       "      <td>0.789727</td>\n",
       "      <td>1.041533</td>\n",
       "      <td>-0.126169</td>\n",
       "      <td>-1.103886</td>\n",
       "      <td>Europe &amp; Central Asia</td>\n",
       "      <td>Lower middle income</td>\n",
       "    </tr>\n",
       "    <tr>\n",
       "      <th>207</th>\n",
       "      <td>Population growth (annual %)</td>\n",
       "      <td>St. Martin (French part)</td>\n",
       "      <td>-3.193254</td>\n",
       "      <td>-2.143728</td>\n",
       "      <td>-1.202216</td>\n",
       "      <td>-0.317443</td>\n",
       "      <td>0.550323</td>\n",
       "      <td>1.414675</td>\n",
       "      <td>1.804026</td>\n",
       "      <td>1.713261</td>\n",
       "      <td>1.616342</td>\n",
       "      <td>1.500129</td>\n",
       "      <td>1.382088</td>\n",
       "      <td>1.248989</td>\n",
       "      <td>1.117366</td>\n",
       "      <td>0.980353</td>\n",
       "      <td>NaN</td>\n",
       "      <td>NaN</td>\n",
       "      <td>Latin America &amp; Caribbean</td>\n",
       "      <td>High income: nonOECD</td>\n",
       "    </tr>\n",
       "  </tbody>\n",
       "</table>\n",
       "</div>"
      ],
      "text/plain": [
       "                   Indicator Name              Country Name      2000  \\\n",
       "75   Population growth (annual %)                   Curacao -4.075386   \n",
       "129  Population growth (annual %)                    Kosovo -3.582128   \n",
       "207  Population growth (annual %)  St. Martin (French part) -3.193254   \n",
       "\n",
       "         2001      2002      2003      2004      2005      2006      2007  \\\n",
       "75  -3.771878 -0.078383  1.883489  1.594798  2.477253  2.534396  1.983521   \n",
       "129  0.067859  0.067931  0.067885  0.067839  0.067910  0.803200  0.803262   \n",
       "207 -2.143728 -1.202216 -0.317443  0.550323  1.414675  1.804026  1.713261   \n",
       "\n",
       "         2008      2009      2010      2011      2012      2013      2014  \\\n",
       "75   1.350729  0.631919  2.317847  0.867561  0.954188  0.945169       NaN   \n",
       "129  0.803213  0.803172  0.803249  0.859067  0.789727  1.041533 -0.126169   \n",
       "207  1.616342  1.500129  1.382088  1.248989  1.117366  0.980353       NaN   \n",
       "\n",
       "         2015                     Region          Income Group  \n",
       "75        NaN  Latin America & Caribbean  High income: nonOECD  \n",
       "129 -1.103886      Europe & Central Asia   Lower middle income  \n",
       "207       NaN  Latin America & Caribbean  High income: nonOECD  "
      ]
     },
     "execution_count": 24,
     "metadata": {},
     "output_type": "execute_result"
    }
   ],
   "source": [
    "df_merged_verif.head(3)"
   ]
  },
  {
   "cell_type": "markdown",
   "id": "199e1768",
   "metadata": {},
   "source": [
    "Nous allons utiliser KNNImputer pour remplir les dernières valeurs manquantes de notre jeu de données.\n",
    "\n",
    "Dans la mesure où nous travaillons avec des années, nous allons pondérer les valeurs voisines des valeurs manquantes par leur distance à celles-ci."
   ]
  },
  {
   "cell_type": "code",
   "execution_count": 25,
   "id": "d012bda2",
   "metadata": {},
   "outputs": [],
   "source": [
    "liste_annees = ['2000','2001','2002','2003','2004','2005','2006','2007','2008','2009','2010',\\\n",
    "                '2011','2012','2013','2014','2015']\n",
    "\n",
    "imputer = KNNImputer(n_neighbors = 10, weights = 'distance')\n",
    "array = imputer.fit_transform(df_merged.loc[:,liste_annees])"
   ]
  },
  {
   "cell_type": "code",
   "execution_count": 26,
   "id": "3150e2b7",
   "metadata": {},
   "outputs": [],
   "source": [
    "df_inter = pd.DataFrame(array)"
   ]
  },
  {
   "cell_type": "code",
   "execution_count": 27,
   "id": "9958adc0",
   "metadata": {},
   "outputs": [
    {
     "data": {
      "text/html": [
       "<div>\n",
       "<style scoped>\n",
       "    .dataframe tbody tr th:only-of-type {\n",
       "        vertical-align: middle;\n",
       "    }\n",
       "\n",
       "    .dataframe tbody tr th {\n",
       "        vertical-align: top;\n",
       "    }\n",
       "\n",
       "    .dataframe thead th {\n",
       "        text-align: right;\n",
       "    }\n",
       "</style>\n",
       "<table border=\"1\" class=\"dataframe\">\n",
       "  <thead>\n",
       "    <tr style=\"text-align: right;\">\n",
       "      <th></th>\n",
       "      <th>0</th>\n",
       "      <th>1</th>\n",
       "      <th>2</th>\n",
       "      <th>3</th>\n",
       "      <th>4</th>\n",
       "      <th>5</th>\n",
       "      <th>6</th>\n",
       "      <th>7</th>\n",
       "      <th>8</th>\n",
       "      <th>9</th>\n",
       "      <th>10</th>\n",
       "      <th>11</th>\n",
       "      <th>12</th>\n",
       "      <th>13</th>\n",
       "      <th>14</th>\n",
       "      <th>15</th>\n",
       "    </tr>\n",
       "  </thead>\n",
       "  <tbody>\n",
       "    <tr>\n",
       "      <th>0</th>\n",
       "      <td>3.494659</td>\n",
       "      <td>4.251504</td>\n",
       "      <td>4.720528</td>\n",
       "      <td>4.818041</td>\n",
       "      <td>4.468918</td>\n",
       "      <td>3.870470</td>\n",
       "      <td>3.228630</td>\n",
       "      <td>2.755225</td>\n",
       "      <td>2.512574</td>\n",
       "      <td>2.569114</td>\n",
       "      <td>2.812617</td>\n",
       "      <td>3.095119</td>\n",
       "      <td>3.272703</td>\n",
       "      <td>3.315224</td>\n",
       "      <td>3.183201</td>\n",
       "      <td>2.943234</td>\n",
       "    </tr>\n",
       "    <tr>\n",
       "      <th>1</th>\n",
       "      <td>-0.637357</td>\n",
       "      <td>-0.938470</td>\n",
       "      <td>-0.299877</td>\n",
       "      <td>-0.374149</td>\n",
       "      <td>-0.417931</td>\n",
       "      <td>-0.511790</td>\n",
       "      <td>-0.630911</td>\n",
       "      <td>-0.755719</td>\n",
       "      <td>-0.767343</td>\n",
       "      <td>-0.673894</td>\n",
       "      <td>-0.496462</td>\n",
       "      <td>-0.269017</td>\n",
       "      <td>-0.165151</td>\n",
       "      <td>-0.183211</td>\n",
       "      <td>-0.207047</td>\n",
       "      <td>-0.291206</td>\n",
       "    </tr>\n",
       "    <tr>\n",
       "      <th>2</th>\n",
       "      <td>1.349663</td>\n",
       "      <td>1.301453</td>\n",
       "      <td>1.267231</td>\n",
       "      <td>1.268580</td>\n",
       "      <td>1.310924</td>\n",
       "      <td>1.383398</td>\n",
       "      <td>1.459709</td>\n",
       "      <td>1.534038</td>\n",
       "      <td>1.621298</td>\n",
       "      <td>1.720717</td>\n",
       "      <td>1.821358</td>\n",
       "      <td>1.924787</td>\n",
       "      <td>2.006614</td>\n",
       "      <td>2.036092</td>\n",
       "      <td>2.000666</td>\n",
       "      <td>1.919959</td>\n",
       "    </tr>\n",
       "    <tr>\n",
       "      <th>3</th>\n",
       "      <td>1.314208</td>\n",
       "      <td>1.130561</td>\n",
       "      <td>0.951199</td>\n",
       "      <td>0.655083</td>\n",
       "      <td>0.248351</td>\n",
       "      <td>-0.246659</td>\n",
       "      <td>-0.794787</td>\n",
       "      <td>-1.281838</td>\n",
       "      <td>-1.519175</td>\n",
       "      <td>-1.418038</td>\n",
       "      <td>-1.054862</td>\n",
       "      <td>-0.571394</td>\n",
       "      <td>-0.162822</td>\n",
       "      <td>0.139320</td>\n",
       "      <td>0.234776</td>\n",
       "      <td>0.180222</td>\n",
       "    </tr>\n",
       "    <tr>\n",
       "      <th>4</th>\n",
       "      <td>1.572166</td>\n",
       "      <td>2.939992</td>\n",
       "      <td>3.942573</td>\n",
       "      <td>4.375449</td>\n",
       "      <td>4.098923</td>\n",
       "      <td>3.382417</td>\n",
       "      <td>2.657515</td>\n",
       "      <td>2.067598</td>\n",
       "      <td>1.414665</td>\n",
       "      <td>0.714106</td>\n",
       "      <td>-0.015393</td>\n",
       "      <td>-0.829969</td>\n",
       "      <td>-1.588653</td>\n",
       "      <td>-2.013314</td>\n",
       "      <td>-1.956178</td>\n",
       "      <td>-1.537836</td>\n",
       "    </tr>\n",
       "  </tbody>\n",
       "</table>\n",
       "</div>"
      ],
      "text/plain": [
       "         0         1         2         3         4         5         6   \\\n",
       "0  3.494659  4.251504  4.720528  4.818041  4.468918  3.870470  3.228630   \n",
       "1 -0.637357 -0.938470 -0.299877 -0.374149 -0.417931 -0.511790 -0.630911   \n",
       "2  1.349663  1.301453  1.267231  1.268580  1.310924  1.383398  1.459709   \n",
       "3  1.314208  1.130561  0.951199  0.655083  0.248351 -0.246659 -0.794787   \n",
       "4  1.572166  2.939992  3.942573  4.375449  4.098923  3.382417  2.657515   \n",
       "\n",
       "         7         8         9         10        11        12        13  \\\n",
       "0  2.755225  2.512574  2.569114  2.812617  3.095119  3.272703  3.315224   \n",
       "1 -0.755719 -0.767343 -0.673894 -0.496462 -0.269017 -0.165151 -0.183211   \n",
       "2  1.534038  1.621298  1.720717  1.821358  1.924787  2.006614  2.036092   \n",
       "3 -1.281838 -1.519175 -1.418038 -1.054862 -0.571394 -0.162822  0.139320   \n",
       "4  2.067598  1.414665  0.714106 -0.015393 -0.829969 -1.588653 -2.013314   \n",
       "\n",
       "         14        15  \n",
       "0  3.183201  2.943234  \n",
       "1 -0.207047 -0.291206  \n",
       "2  2.000666  1.919959  \n",
       "3  0.234776  0.180222  \n",
       "4 -1.956178 -1.537836  "
      ]
     },
     "execution_count": 27,
     "metadata": {},
     "output_type": "execute_result"
    }
   ],
   "source": [
    "df_inter.head()"
   ]
  },
  {
   "cell_type": "code",
   "execution_count": 28,
   "id": "a255025f",
   "metadata": {},
   "outputs": [],
   "source": [
    "df_inter.rename(columns = {0:'2000',1:'2001',2:'2002',3:'2003',4:'2004',5:'2005',6:'2006',\\\n",
    "                           7:'2007',8:'2008',9:'2009',10:'2010',11:'2011',12:'2012',\\\n",
    "                           13:'2013',14:'2014',15:'2015'}, inplace=True)"
   ]
  },
  {
   "cell_type": "code",
   "execution_count": 29,
   "id": "6dad3d31",
   "metadata": {},
   "outputs": [],
   "source": [
    "for val in liste_annees:\n",
    "    df_merged[val] = df_inter[val].values"
   ]
  },
  {
   "cell_type": "code",
   "execution_count": 30,
   "id": "778c4da8",
   "metadata": {},
   "outputs": [
    {
     "data": {
      "text/plain": [
       "Indicator Name    0\n",
       "Country Name      0\n",
       "2000              0\n",
       "2001              0\n",
       "2002              0\n",
       "2003              0\n",
       "2004              0\n",
       "2005              0\n",
       "2006              0\n",
       "2007              0\n",
       "2008              0\n",
       "2009              0\n",
       "2010              0\n",
       "2011              0\n",
       "2012              0\n",
       "2013              0\n",
       "2014              0\n",
       "2015              0\n",
       "Region            0\n",
       "Income Group      0\n",
       "dtype: int64"
      ]
     },
     "execution_count": 30,
     "metadata": {},
     "output_type": "execute_result"
    }
   ],
   "source": [
    "df_merged.isnull().sum()"
   ]
  },
  {
   "cell_type": "markdown",
   "id": "639484a6",
   "metadata": {},
   "source": [
    "Comparons à notre *df_merged_verif*."
   ]
  },
  {
   "cell_type": "code",
   "execution_count": 31,
   "id": "1b5363a7",
   "metadata": {},
   "outputs": [],
   "source": [
    "df_merged_verif_2 = df_merged.copy()\n",
    "df_merged_verif_2.sort_values('2000',inplace=True)"
   ]
  },
  {
   "cell_type": "code",
   "execution_count": 32,
   "id": "1c6fe96d",
   "metadata": {},
   "outputs": [
    {
     "name": "stdout",
     "output_type": "stream",
     "text": [
      "                   Indicator Name              Country Name      2000  \\\n",
      "75   Population growth (annual %)                   Curacao -4.075386   \n",
      "129  Population growth (annual %)                    Kosovo -3.582128   \n",
      "207  Population growth (annual %)  St. Martin (French part) -3.193254   \n",
      "\n",
      "         2001      2002      2003      2004      2005      2006      2007  \\\n",
      "75  -3.771878 -0.078383  1.883489  1.594798  2.477253  2.534396  1.983521   \n",
      "129  0.067859  0.067931  0.067885  0.067839  0.067910  0.803200  0.803262   \n",
      "207 -2.143728 -1.202216 -0.317443  0.550323  1.414675  1.804026  1.713261   \n",
      "\n",
      "         2008      2009      2010      2011      2012      2013      2014  \\\n",
      "75   1.350729  0.631919  2.317847  0.867561  0.954188  0.945169       NaN   \n",
      "129  0.803213  0.803172  0.803249  0.859067  0.789727  1.041533 -0.126169   \n",
      "207  1.616342  1.500129  1.382088  1.248989  1.117366  0.980353       NaN   \n",
      "\n",
      "         2015                     Region          Income Group  \n",
      "75        NaN  Latin America & Caribbean  High income: nonOECD  \n",
      "129 -1.103886      Europe & Central Asia   Lower middle income  \n",
      "207       NaN  Latin America & Caribbean  High income: nonOECD   \n",
      "\n",
      "                   Indicator Name              Country Name      2000  \\\n",
      "75   Population growth (annual %)                   Curacao -4.075386   \n",
      "129  Population growth (annual %)                    Kosovo -3.582128   \n",
      "207  Population growth (annual %)  St. Martin (French part) -3.193254   \n",
      "\n",
      "         2001      2002      2003      2004      2005      2006      2007  \\\n",
      "75  -3.771878 -0.078383  1.883489  1.594798  2.477253  2.534396  1.983521   \n",
      "129  0.067859  0.067931  0.067885  0.067839  0.067910  0.803200  0.803262   \n",
      "207 -2.143728 -1.202216 -0.317443  0.550323  1.414675  1.804026  1.713261   \n",
      "\n",
      "         2008      2009      2010      2011      2012      2013      2014  \\\n",
      "75   1.350729  0.631919  2.317847  0.867561  0.954188  0.945169  1.715245   \n",
      "129  0.803213  0.803172  0.803249  0.859067  0.789727  1.041533 -0.126169   \n",
      "207  1.616342  1.500129  1.382088  1.248989  1.117366  0.980353  1.471336   \n",
      "\n",
      "         2015                     Region          Income Group  \n",
      "75   1.990344  Latin America & Caribbean  High income: nonOECD  \n",
      "129 -1.103886      Europe & Central Asia   Lower middle income  \n",
      "207  1.790219  Latin America & Caribbean  High income: nonOECD  \n"
     ]
    }
   ],
   "source": [
    "print(df_merged_verif.head(3),'\\n')\n",
    "print(df_merged_verif_2.head(3))"
   ]
  },
  {
   "cell_type": "markdown",
   "id": "504cb2f6",
   "metadata": {},
   "source": [
    "## Suppression des indicateurs inutiles et/ou redondants"
   ]
  },
  {
   "cell_type": "markdown",
   "id": "e5f2f5af",
   "metadata": {},
   "source": [
    "Nous cherchons à savoir si quelques uns de nos indicateurs sont corrélés entre eux."
   ]
  },
  {
   "cell_type": "code",
   "execution_count": 33,
   "id": "e839c093",
   "metadata": {},
   "outputs": [],
   "source": [
    "df_indicateurs_a_supprimer = df_merged.copy()"
   ]
  },
  {
   "cell_type": "code",
   "execution_count": 34,
   "id": "446ffccb",
   "metadata": {},
   "outputs": [
    {
     "data": {
      "text/plain": [
       "Indicator Name    0\n",
       "Country Name      0\n",
       "2000              0\n",
       "2001              0\n",
       "2002              0\n",
       "2003              0\n",
       "2004              0\n",
       "2005              0\n",
       "2006              0\n",
       "2007              0\n",
       "2008              0\n",
       "2009              0\n",
       "2010              0\n",
       "2011              0\n",
       "2012              0\n",
       "2013              0\n",
       "2014              0\n",
       "2015              0\n",
       "Region            0\n",
       "Income Group      0\n",
       "dtype: int64"
      ]
     },
     "execution_count": 34,
     "metadata": {},
     "output_type": "execute_result"
    }
   ],
   "source": [
    "df_indicateurs_a_supprimer.isnull().sum()"
   ]
  },
  {
   "cell_type": "code",
   "execution_count": 35,
   "id": "f57cb674",
   "metadata": {},
   "outputs": [
    {
     "data": {
      "text/plain": [
       "array(['Population growth (annual %)', 'Population, total',\n",
       "       'Government expenditure on education as % of GDP (%)',\n",
       "       'GDP per capita, PPP (current international $)',\n",
       "       'Internet users (per 100 people)',\n",
       "       'Enrolment in tertiary education, all programmes, both sexes (number)'],\n",
       "      dtype=object)"
      ]
     },
     "execution_count": 35,
     "metadata": {},
     "output_type": "execute_result"
    }
   ],
   "source": [
    "df_indicateurs_a_supprimer['Indicator Name'].unique()"
   ]
  },
  {
   "cell_type": "code",
   "execution_count": 36,
   "id": "eabec8a1",
   "metadata": {},
   "outputs": [],
   "source": [
    "df_indicateurs_a_supprimer = df_indicateurs_a_supprimer.groupby('Indicator Name').mean()"
   ]
  },
  {
   "cell_type": "markdown",
   "id": "3f261d20",
   "metadata": {},
   "source": [
    "La valeur moyenne de chaque indicateur par année ne nous importe pas, nous cherchons juste à voir l'évolution globale de chaque indicateur entre 2000 et 2015."
   ]
  },
  {
   "cell_type": "code",
   "execution_count": 37,
   "id": "2c21b27a",
   "metadata": {},
   "outputs": [],
   "source": [
    "df_indicateurs_a_supprimer = df_indicateurs_a_supprimer.transpose()"
   ]
  },
  {
   "cell_type": "code",
   "execution_count": 38,
   "id": "c9c0796c",
   "metadata": {},
   "outputs": [
    {
     "data": {
      "text/html": [
       "<div>\n",
       "<style scoped>\n",
       "    .dataframe tbody tr th:only-of-type {\n",
       "        vertical-align: middle;\n",
       "    }\n",
       "\n",
       "    .dataframe tbody tr th {\n",
       "        vertical-align: top;\n",
       "    }\n",
       "\n",
       "    .dataframe thead th {\n",
       "        text-align: right;\n",
       "    }\n",
       "</style>\n",
       "<table border=\"1\" class=\"dataframe\">\n",
       "  <thead>\n",
       "    <tr style=\"text-align: right;\">\n",
       "      <th>Indicator Name</th>\n",
       "      <th>Enrolment in tertiary education, all programmes, both sexes (number)</th>\n",
       "      <th>GDP per capita, PPP (current international $)</th>\n",
       "      <th>Government expenditure on education as % of GDP (%)</th>\n",
       "      <th>Internet users (per 100 people)</th>\n",
       "      <th>Population growth (annual %)</th>\n",
       "      <th>Population, total</th>\n",
       "    </tr>\n",
       "    <tr>\n",
       "      <th>Indicator Name</th>\n",
       "      <th></th>\n",
       "      <th></th>\n",
       "      <th></th>\n",
       "      <th></th>\n",
       "      <th></th>\n",
       "      <th></th>\n",
       "    </tr>\n",
       "  </thead>\n",
       "  <tbody>\n",
       "    <tr>\n",
       "      <th>Enrolment in tertiary education, all programmes, both sexes (number)</th>\n",
       "      <td>1.000000</td>\n",
       "      <td>0.987418</td>\n",
       "      <td>0.860674</td>\n",
       "      <td>0.995721</td>\n",
       "      <td>-0.538172</td>\n",
       "      <td>0.997478</td>\n",
       "    </tr>\n",
       "    <tr>\n",
       "      <th>GDP per capita, PPP (current international $)</th>\n",
       "      <td>0.987418</td>\n",
       "      <td>1.000000</td>\n",
       "      <td>0.789586</td>\n",
       "      <td>0.982544</td>\n",
       "      <td>-0.438794</td>\n",
       "      <td>0.988164</td>\n",
       "    </tr>\n",
       "    <tr>\n",
       "      <th>Government expenditure on education as % of GDP (%)</th>\n",
       "      <td>0.860674</td>\n",
       "      <td>0.789586</td>\n",
       "      <td>1.000000</td>\n",
       "      <td>0.855750</td>\n",
       "      <td>-0.661221</td>\n",
       "      <td>0.851586</td>\n",
       "    </tr>\n",
       "    <tr>\n",
       "      <th>Internet users (per 100 people)</th>\n",
       "      <td>0.995721</td>\n",
       "      <td>0.982544</td>\n",
       "      <td>0.855750</td>\n",
       "      <td>1.000000</td>\n",
       "      <td>-0.577512</td>\n",
       "      <td>0.999147</td>\n",
       "    </tr>\n",
       "    <tr>\n",
       "      <th>Population growth (annual %)</th>\n",
       "      <td>-0.538172</td>\n",
       "      <td>-0.438794</td>\n",
       "      <td>-0.661221</td>\n",
       "      <td>-0.577512</td>\n",
       "      <td>1.000000</td>\n",
       "      <td>-0.548386</td>\n",
       "    </tr>\n",
       "    <tr>\n",
       "      <th>Population, total</th>\n",
       "      <td>0.997478</td>\n",
       "      <td>0.988164</td>\n",
       "      <td>0.851586</td>\n",
       "      <td>0.999147</td>\n",
       "      <td>-0.548386</td>\n",
       "      <td>1.000000</td>\n",
       "    </tr>\n",
       "  </tbody>\n",
       "</table>\n",
       "</div>"
      ],
      "text/plain": [
       "Indicator Name                                      Enrolment in tertiary education, all programmes, both sexes (number)  \\\n",
       "Indicator Name                                                                                                             \n",
       "Enrolment in tertiary education, all programmes...                                           1.000000                      \n",
       "GDP per capita, PPP (current international $)                                                0.987418                      \n",
       "Government expenditure on education as % of GDP...                                           0.860674                      \n",
       "Internet users (per 100 people)                                                              0.995721                      \n",
       "Population growth (annual %)                                                                -0.538172                      \n",
       "Population, total                                                                            0.997478                      \n",
       "\n",
       "Indicator Name                                      GDP per capita, PPP (current international $)  \\\n",
       "Indicator Name                                                                                      \n",
       "Enrolment in tertiary education, all programmes...                                       0.987418   \n",
       "GDP per capita, PPP (current international $)                                            1.000000   \n",
       "Government expenditure on education as % of GDP...                                       0.789586   \n",
       "Internet users (per 100 people)                                                          0.982544   \n",
       "Population growth (annual %)                                                            -0.438794   \n",
       "Population, total                                                                        0.988164   \n",
       "\n",
       "Indicator Name                                      Government expenditure on education as % of GDP (%)  \\\n",
       "Indicator Name                                                                                            \n",
       "Enrolment in tertiary education, all programmes...                                           0.860674     \n",
       "GDP per capita, PPP (current international $)                                                0.789586     \n",
       "Government expenditure on education as % of GDP...                                           1.000000     \n",
       "Internet users (per 100 people)                                                              0.855750     \n",
       "Population growth (annual %)                                                                -0.661221     \n",
       "Population, total                                                                            0.851586     \n",
       "\n",
       "Indicator Name                                      Internet users (per 100 people)  \\\n",
       "Indicator Name                                                                        \n",
       "Enrolment in tertiary education, all programmes...                         0.995721   \n",
       "GDP per capita, PPP (current international $)                              0.982544   \n",
       "Government expenditure on education as % of GDP...                         0.855750   \n",
       "Internet users (per 100 people)                                            1.000000   \n",
       "Population growth (annual %)                                              -0.577512   \n",
       "Population, total                                                          0.999147   \n",
       "\n",
       "Indicator Name                                      Population growth (annual %)  \\\n",
       "Indicator Name                                                                     \n",
       "Enrolment in tertiary education, all programmes...                     -0.538172   \n",
       "GDP per capita, PPP (current international $)                          -0.438794   \n",
       "Government expenditure on education as % of GDP...                     -0.661221   \n",
       "Internet users (per 100 people)                                        -0.577512   \n",
       "Population growth (annual %)                                            1.000000   \n",
       "Population, total                                                      -0.548386   \n",
       "\n",
       "Indicator Name                                      Population, total  \n",
       "Indicator Name                                                         \n",
       "Enrolment in tertiary education, all programmes...           0.997478  \n",
       "GDP per capita, PPP (current international $)                0.988164  \n",
       "Government expenditure on education as % of GDP...           0.851586  \n",
       "Internet users (per 100 people)                              0.999147  \n",
       "Population growth (annual %)                                -0.548386  \n",
       "Population, total                                            1.000000  "
      ]
     },
     "execution_count": 38,
     "metadata": {},
     "output_type": "execute_result"
    }
   ],
   "source": [
    "df_indicateurs_a_supprimer.corr(method = 'pearson')"
   ]
  },
  {
   "cell_type": "code",
   "execution_count": 39,
   "id": "92d90b66",
   "metadata": {},
   "outputs": [
    {
     "data": {
      "image/png": "[encoded data removed]",
      "text/plain": [
       "<Figure size 432x288 with 2 Axes>"
      ]
     },
     "metadata": {
      "needs_background": "light"
     },
     "output_type": "display_data"
    }
   ],
   "source": [
    "h = sns.heatmap(df_indicateurs_a_supprimer.corr(), linewidth = 0.5, cmap=\"coolwarm\")"
   ]
  },
  {
   "cell_type": "markdown",
   "id": "3dc3db8a",
   "metadata": {},
   "source": [
    "Nous allons uniquement supprimer \"Government expenditure on education as % of GDP (%)\" et \"Enrolment in tertiary education, all programmes, both sexes (number)\".\n",
    "\n",
    "\"Population, total\", \"Internet users (per 100 people)\" et \"GDP per capita, PPP (current international $)\" sont aussi très liés les uns aux autres mais nous allons tout de même les garder pour notre analyse.  Cela permettra de mettre en avant des pays avec une nombre important d'utilisateurs d'internet."
   ]
  },
  {
   "cell_type": "code",
   "execution_count": 40,
   "id": "b6abc121",
   "metadata": {},
   "outputs": [],
   "source": [
    "df_final = df_merged.copy()\n",
    "df_final = df_final.set_index('Indicator Name')\n",
    "df_final.drop(labels = ['Enrolment in tertiary education, all programmes, both sexes (number)',\\\n",
    "                        'Government expenditure on education as % of GDP (%)'], axis = 0, inplace = True)"
   ]
  },
  {
   "cell_type": "code",
   "execution_count": 41,
   "id": "21c9f4ea",
   "metadata": {},
   "outputs": [
    {
     "data": {
      "text/plain": [
       "array(['Population growth (annual %)', 'Population, total',\n",
       "       'GDP per capita, PPP (current international $)',\n",
       "       'Internet users (per 100 people)'], dtype=object)"
      ]
     },
     "execution_count": 41,
     "metadata": {},
     "output_type": "execute_result"
    }
   ],
   "source": [
    "df_final = df_final.reset_index()\n",
    "df_final['Indicator Name'].unique()"
   ]
  },
  {
   "cell_type": "markdown",
   "id": "e5bf4406",
   "metadata": {},
   "source": [
    "## Le Scoring"
   ]
  },
  {
   "cell_type": "markdown",
   "id": "bd9ed8fc",
   "metadata": {},
   "source": [
    "Nous allons diviser notre jeu de données en 4 (une partie par indicateur) et associer une note comprise entre 0 et 100 (basée sur le percentile de la valeur dans la colonne) par pays et par année."
   ]
  },
  {
   "cell_type": "code",
   "execution_count": 42,
   "id": "e0498c2c",
   "metadata": {},
   "outputs": [],
   "source": [
    "subset_1 = df_final.copy()\n",
    "subset_1 = subset_1.set_index('Indicator Name')\n",
    "subset_1 = subset_1.loc['Population growth (annual %)',:]"
   ]
  },
  {
   "cell_type": "code",
   "execution_count": 43,
   "id": "c5dedd6c",
   "metadata": {},
   "outputs": [],
   "source": [
    "subset_2 = df_final.copy()\n",
    "subset_2 = subset_2.set_index('Indicator Name')\n",
    "subset_2 = subset_2.loc['Population, total',:]"
   ]
  },
  {
   "cell_type": "code",
   "execution_count": 44,
   "id": "17895ba0",
   "metadata": {},
   "outputs": [],
   "source": [
    "subset_3 = df_final.copy()\n",
    "subset_3 = subset_3.set_index('Indicator Name')\n",
    "subset_3 = subset_3.loc['GDP per capita, PPP (current international $)',:]"
   ]
  },
  {
   "cell_type": "code",
   "execution_count": 45,
   "id": "87e90041",
   "metadata": {},
   "outputs": [],
   "source": [
    "subset_4 = df_final.copy()\n",
    "subset_4 = subset_4.set_index('Indicator Name')\n",
    "subset_4 = subset_4.loc['Internet users (per 100 people)',:]"
   ]
  },
  {
   "cell_type": "markdown",
   "id": "c2e86dee",
   "metadata": {},
   "source": [
    "Nous allons regarder nos premières lignes pour *subset_1* et *subset_2* afin de vérifier que notre technique de scoring fonctionne convenablement."
   ]
  },
  {
   "cell_type": "code",
   "execution_count": 46,
   "id": "d3b70307",
   "metadata": {},
   "outputs": [
    {
     "data": {
      "text/html": [
       "<div>\n",
       "<style scoped>\n",
       "    .dataframe tbody tr th:only-of-type {\n",
       "        vertical-align: middle;\n",
       "    }\n",
       "\n",
       "    .dataframe tbody tr th {\n",
       "        vertical-align: top;\n",
       "    }\n",
       "\n",
       "    .dataframe thead th {\n",
       "        text-align: right;\n",
       "    }\n",
       "</style>\n",
       "<table border=\"1\" class=\"dataframe\">\n",
       "  <thead>\n",
       "    <tr style=\"text-align: right;\">\n",
       "      <th></th>\n",
       "      <th>Country Name</th>\n",
       "      <th>2000</th>\n",
       "      <th>2001</th>\n",
       "      <th>2002</th>\n",
       "      <th>2003</th>\n",
       "      <th>2004</th>\n",
       "      <th>2005</th>\n",
       "      <th>2006</th>\n",
       "      <th>2007</th>\n",
       "      <th>2008</th>\n",
       "      <th>2009</th>\n",
       "      <th>2010</th>\n",
       "      <th>2011</th>\n",
       "      <th>2012</th>\n",
       "      <th>2013</th>\n",
       "      <th>2014</th>\n",
       "      <th>2015</th>\n",
       "      <th>Region</th>\n",
       "      <th>Income Group</th>\n",
       "    </tr>\n",
       "    <tr>\n",
       "      <th>Indicator Name</th>\n",
       "      <th></th>\n",
       "      <th></th>\n",
       "      <th></th>\n",
       "      <th></th>\n",
       "      <th></th>\n",
       "      <th></th>\n",
       "      <th></th>\n",
       "      <th></th>\n",
       "      <th></th>\n",
       "      <th></th>\n",
       "      <th></th>\n",
       "      <th></th>\n",
       "      <th></th>\n",
       "      <th></th>\n",
       "      <th></th>\n",
       "      <th></th>\n",
       "      <th></th>\n",
       "      <th></th>\n",
       "      <th></th>\n",
       "    </tr>\n",
       "  </thead>\n",
       "  <tbody>\n",
       "    <tr>\n",
       "      <th>Population growth (annual %)</th>\n",
       "      <td>Rwanda</td>\n",
       "      <td>5.539102</td>\n",
       "      <td>3.714288</td>\n",
       "      <td>2.452438</td>\n",
       "      <td>1.674486</td>\n",
       "      <td>1.578337</td>\n",
       "      <td>1.946107</td>\n",
       "      <td>2.361262</td>\n",
       "      <td>2.582134</td>\n",
       "      <td>2.722791</td>\n",
       "      <td>2.735945</td>\n",
       "      <td>2.664241</td>\n",
       "      <td>2.593510</td>\n",
       "      <td>2.560881</td>\n",
       "      <td>2.528715</td>\n",
       "      <td>2.500797</td>\n",
       "      <td>2.474095</td>\n",
       "      <td>Sub-Saharan Africa</td>\n",
       "      <td>Low income</td>\n",
       "    </tr>\n",
       "    <tr>\n",
       "      <th>Population growth (annual %)</th>\n",
       "      <td>Turks and Caicos Islands</td>\n",
       "      <td>5.494481</td>\n",
       "      <td>6.720743</td>\n",
       "      <td>7.430612</td>\n",
       "      <td>7.391741</td>\n",
       "      <td>6.683192</td>\n",
       "      <td>5.518534</td>\n",
       "      <td>4.415581</td>\n",
       "      <td>3.546799</td>\n",
       "      <td>2.894165</td>\n",
       "      <td>2.558489</td>\n",
       "      <td>2.446276</td>\n",
       "      <td>2.350048</td>\n",
       "      <td>2.182063</td>\n",
       "      <td>2.066019</td>\n",
       "      <td>1.887949</td>\n",
       "      <td>1.762730</td>\n",
       "      <td>Latin America &amp; Caribbean</td>\n",
       "      <td>High income: nonOECD</td>\n",
       "    </tr>\n",
       "    <tr>\n",
       "      <th>Population growth (annual %)</th>\n",
       "      <td>United Arab Emirates</td>\n",
       "      <td>5.430624</td>\n",
       "      <td>5.281528</td>\n",
       "      <td>5.304712</td>\n",
       "      <td>6.477493</td>\n",
       "      <td>8.843692</td>\n",
       "      <td>11.356439</td>\n",
       "      <td>13.510585</td>\n",
       "      <td>14.236792</td>\n",
       "      <td>13.161466</td>\n",
       "      <td>10.615444</td>\n",
       "      <td>7.587098</td>\n",
       "      <td>4.743700</td>\n",
       "      <td>2.594796</td>\n",
       "      <td>1.181805</td>\n",
       "      <td>0.714763</td>\n",
       "      <td>0.915608</td>\n",
       "      <td>Middle East &amp; North Africa</td>\n",
       "      <td>High income: nonOECD</td>\n",
       "    </tr>\n",
       "  </tbody>\n",
       "</table>\n",
       "</div>"
      ],
      "text/plain": [
       "                                          Country Name      2000      2001  \\\n",
       "Indicator Name                                                               \n",
       "Population growth (annual %)                    Rwanda  5.539102  3.714288   \n",
       "Population growth (annual %)  Turks and Caicos Islands  5.494481  6.720743   \n",
       "Population growth (annual %)      United Arab Emirates  5.430624  5.281528   \n",
       "\n",
       "                                  2002      2003      2004       2005  \\\n",
       "Indicator Name                                                          \n",
       "Population growth (annual %)  2.452438  1.674486  1.578337   1.946107   \n",
       "Population growth (annual %)  7.430612  7.391741  6.683192   5.518534   \n",
       "Population growth (annual %)  5.304712  6.477493  8.843692  11.356439   \n",
       "\n",
       "                                   2006       2007       2008       2009  \\\n",
       "Indicator Name                                                             \n",
       "Population growth (annual %)   2.361262   2.582134   2.722791   2.735945   \n",
       "Population growth (annual %)   4.415581   3.546799   2.894165   2.558489   \n",
       "Population growth (annual %)  13.510585  14.236792  13.161466  10.615444   \n",
       "\n",
       "                                  2010      2011      2012      2013  \\\n",
       "Indicator Name                                                         \n",
       "Population growth (annual %)  2.664241  2.593510  2.560881  2.528715   \n",
       "Population growth (annual %)  2.446276  2.350048  2.182063  2.066019   \n",
       "Population growth (annual %)  7.587098  4.743700  2.594796  1.181805   \n",
       "\n",
       "                                  2014      2015                      Region  \\\n",
       "Indicator Name                                                                 \n",
       "Population growth (annual %)  2.500797  2.474095          Sub-Saharan Africa   \n",
       "Population growth (annual %)  1.887949  1.762730   Latin America & Caribbean   \n",
       "Population growth (annual %)  0.714763  0.915608  Middle East & North Africa   \n",
       "\n",
       "                                      Income Group  \n",
       "Indicator Name                                      \n",
       "Population growth (annual %)            Low income  \n",
       "Population growth (annual %)  High income: nonOECD  \n",
       "Population growth (annual %)  High income: nonOECD  "
      ]
     },
     "execution_count": 46,
     "metadata": {},
     "output_type": "execute_result"
    }
   ],
   "source": [
    "subset_1.sort_values(by=['2000'], ascending=False).head(3)"
   ]
  },
  {
   "cell_type": "code",
   "execution_count": 47,
   "id": "b9b50502",
   "metadata": {},
   "outputs": [
    {
     "data": {
      "text/html": [
       "<div>\n",
       "<style scoped>\n",
       "    .dataframe tbody tr th:only-of-type {\n",
       "        vertical-align: middle;\n",
       "    }\n",
       "\n",
       "    .dataframe tbody tr th {\n",
       "        vertical-align: top;\n",
       "    }\n",
       "\n",
       "    .dataframe thead th {\n",
       "        text-align: right;\n",
       "    }\n",
       "</style>\n",
       "<table border=\"1\" class=\"dataframe\">\n",
       "  <thead>\n",
       "    <tr style=\"text-align: right;\">\n",
       "      <th></th>\n",
       "      <th>Country Name</th>\n",
       "      <th>2000</th>\n",
       "      <th>2001</th>\n",
       "      <th>2002</th>\n",
       "      <th>2003</th>\n",
       "      <th>2004</th>\n",
       "      <th>2005</th>\n",
       "      <th>2006</th>\n",
       "      <th>2007</th>\n",
       "      <th>2008</th>\n",
       "      <th>2009</th>\n",
       "      <th>2010</th>\n",
       "      <th>2011</th>\n",
       "      <th>2012</th>\n",
       "      <th>2013</th>\n",
       "      <th>2014</th>\n",
       "      <th>2015</th>\n",
       "      <th>Region</th>\n",
       "      <th>Income Group</th>\n",
       "    </tr>\n",
       "    <tr>\n",
       "      <th>Indicator Name</th>\n",
       "      <th></th>\n",
       "      <th></th>\n",
       "      <th></th>\n",
       "      <th></th>\n",
       "      <th></th>\n",
       "      <th></th>\n",
       "      <th></th>\n",
       "      <th></th>\n",
       "      <th></th>\n",
       "      <th></th>\n",
       "      <th></th>\n",
       "      <th></th>\n",
       "      <th></th>\n",
       "      <th></th>\n",
       "      <th></th>\n",
       "      <th></th>\n",
       "      <th></th>\n",
       "      <th></th>\n",
       "      <th></th>\n",
       "    </tr>\n",
       "  </thead>\n",
       "  <tbody>\n",
       "    <tr>\n",
       "      <th>Population, total</th>\n",
       "      <td>China</td>\n",
       "      <td>1.262645e+09</td>\n",
       "      <td>1.271850e+09</td>\n",
       "      <td>1.280400e+09</td>\n",
       "      <td>1.288400e+09</td>\n",
       "      <td>1.296075e+09</td>\n",
       "      <td>1.303720e+09</td>\n",
       "      <td>1.311020e+09</td>\n",
       "      <td>1.317885e+09</td>\n",
       "      <td>1.324655e+09</td>\n",
       "      <td>1.331260e+09</td>\n",
       "      <td>1.337705e+09</td>\n",
       "      <td>1.344130e+09</td>\n",
       "      <td>1.350695e+09</td>\n",
       "      <td>1.357380e+09</td>\n",
       "      <td>1.364270e+09</td>\n",
       "      <td>1.371220e+09</td>\n",
       "      <td>East Asia &amp; Pacific</td>\n",
       "      <td>Upper middle income</td>\n",
       "    </tr>\n",
       "    <tr>\n",
       "      <th>Population, total</th>\n",
       "      <td>India</td>\n",
       "      <td>1.053051e+09</td>\n",
       "      <td>1.071478e+09</td>\n",
       "      <td>1.089807e+09</td>\n",
       "      <td>1.108028e+09</td>\n",
       "      <td>1.126136e+09</td>\n",
       "      <td>1.144119e+09</td>\n",
       "      <td>1.161978e+09</td>\n",
       "      <td>1.179681e+09</td>\n",
       "      <td>1.197147e+09</td>\n",
       "      <td>1.214270e+09</td>\n",
       "      <td>1.230981e+09</td>\n",
       "      <td>1.247236e+09</td>\n",
       "      <td>1.263066e+09</td>\n",
       "      <td>1.278562e+09</td>\n",
       "      <td>1.293859e+09</td>\n",
       "      <td>1.309054e+09</td>\n",
       "      <td>South Asia</td>\n",
       "      <td>Lower middle income</td>\n",
       "    </tr>\n",
       "    <tr>\n",
       "      <th>Population, total</th>\n",
       "      <td>United States</td>\n",
       "      <td>2.821624e+08</td>\n",
       "      <td>2.849690e+08</td>\n",
       "      <td>2.876252e+08</td>\n",
       "      <td>2.901079e+08</td>\n",
       "      <td>2.928053e+08</td>\n",
       "      <td>2.955166e+08</td>\n",
       "      <td>2.983799e+08</td>\n",
       "      <td>3.012312e+08</td>\n",
       "      <td>3.040940e+08</td>\n",
       "      <td>3.067715e+08</td>\n",
       "      <td>3.093482e+08</td>\n",
       "      <td>3.116634e+08</td>\n",
       "      <td>3.139984e+08</td>\n",
       "      <td>3.162049e+08</td>\n",
       "      <td>3.185635e+08</td>\n",
       "      <td>3.208966e+08</td>\n",
       "      <td>North America</td>\n",
       "      <td>High income: OECD</td>\n",
       "    </tr>\n",
       "  </tbody>\n",
       "</table>\n",
       "</div>"
      ],
      "text/plain": [
       "                    Country Name          2000          2001          2002  \\\n",
       "Indicator Name                                                               \n",
       "Population, total          China  1.262645e+09  1.271850e+09  1.280400e+09   \n",
       "Population, total          India  1.053051e+09  1.071478e+09  1.089807e+09   \n",
       "Population, total  United States  2.821624e+08  2.849690e+08  2.876252e+08   \n",
       "\n",
       "                           2003          2004          2005          2006  \\\n",
       "Indicator Name                                                              \n",
       "Population, total  1.288400e+09  1.296075e+09  1.303720e+09  1.311020e+09   \n",
       "Population, total  1.108028e+09  1.126136e+09  1.144119e+09  1.161978e+09   \n",
       "Population, total  2.901079e+08  2.928053e+08  2.955166e+08  2.983799e+08   \n",
       "\n",
       "                           2007          2008          2009          2010  \\\n",
       "Indicator Name                                                              \n",
       "Population, total  1.317885e+09  1.324655e+09  1.331260e+09  1.337705e+09   \n",
       "Population, total  1.179681e+09  1.197147e+09  1.214270e+09  1.230981e+09   \n",
       "Population, total  3.012312e+08  3.040940e+08  3.067715e+08  3.093482e+08   \n",
       "\n",
       "                           2011          2012          2013          2014  \\\n",
       "Indicator Name                                                              \n",
       "Population, total  1.344130e+09  1.350695e+09  1.357380e+09  1.364270e+09   \n",
       "Population, total  1.247236e+09  1.263066e+09  1.278562e+09  1.293859e+09   \n",
       "Population, total  3.116634e+08  3.139984e+08  3.162049e+08  3.185635e+08   \n",
       "\n",
       "                           2015               Region         Income Group  \n",
       "Indicator Name                                                             \n",
       "Population, total  1.371220e+09  East Asia & Pacific  Upper middle income  \n",
       "Population, total  1.309054e+09           South Asia  Lower middle income  \n",
       "Population, total  3.208966e+08        North America    High income: OECD  "
      ]
     },
     "execution_count": 47,
     "metadata": {},
     "output_type": "execute_result"
    }
   ],
   "source": [
    "subset_2.sort_values(by=['2000'], ascending=False).head(3)"
   ]
  },
  {
   "cell_type": "code",
   "execution_count": 48,
   "id": "29f16ba0",
   "metadata": {},
   "outputs": [],
   "source": [
    "subsets = [subset_1, subset_2, subset_3, subset_4]\n",
    "\n",
    "for i in liste_annees:\n",
    "    for j in subsets:\n",
    "        j[i] = j[i].rank(pct=True)*100"
   ]
  },
  {
   "cell_type": "code",
   "execution_count": 49,
   "id": "9a304d55",
   "metadata": {},
   "outputs": [
    {
     "data": {
      "text/html": [
       "<div>\n",
       "<style scoped>\n",
       "    .dataframe tbody tr th:only-of-type {\n",
       "        vertical-align: middle;\n",
       "    }\n",
       "\n",
       "    .dataframe tbody tr th {\n",
       "        vertical-align: top;\n",
       "    }\n",
       "\n",
       "    .dataframe thead th {\n",
       "        text-align: right;\n",
       "    }\n",
       "</style>\n",
       "<table border=\"1\" class=\"dataframe\">\n",
       "  <thead>\n",
       "    <tr style=\"text-align: right;\">\n",
       "      <th></th>\n",
       "      <th>Country Name</th>\n",
       "      <th>2000</th>\n",
       "      <th>2001</th>\n",
       "      <th>2002</th>\n",
       "      <th>2003</th>\n",
       "      <th>2004</th>\n",
       "      <th>2005</th>\n",
       "      <th>2006</th>\n",
       "      <th>2007</th>\n",
       "      <th>2008</th>\n",
       "      <th>2009</th>\n",
       "      <th>2010</th>\n",
       "      <th>2011</th>\n",
       "      <th>2012</th>\n",
       "      <th>2013</th>\n",
       "      <th>2014</th>\n",
       "      <th>2015</th>\n",
       "      <th>Region</th>\n",
       "      <th>Income Group</th>\n",
       "    </tr>\n",
       "    <tr>\n",
       "      <th>Indicator Name</th>\n",
       "      <th></th>\n",
       "      <th></th>\n",
       "      <th></th>\n",
       "      <th></th>\n",
       "      <th></th>\n",
       "      <th></th>\n",
       "      <th></th>\n",
       "      <th></th>\n",
       "      <th></th>\n",
       "      <th></th>\n",
       "      <th></th>\n",
       "      <th></th>\n",
       "      <th></th>\n",
       "      <th></th>\n",
       "      <th></th>\n",
       "      <th></th>\n",
       "      <th></th>\n",
       "      <th></th>\n",
       "      <th></th>\n",
       "    </tr>\n",
       "  </thead>\n",
       "  <tbody>\n",
       "    <tr>\n",
       "      <th>Population growth (annual %)</th>\n",
       "      <td>Rwanda</td>\n",
       "      <td>100.000000</td>\n",
       "      <td>94.859813</td>\n",
       "      <td>76.168224</td>\n",
       "      <td>60.280374</td>\n",
       "      <td>58.411215</td>\n",
       "      <td>67.289720</td>\n",
       "      <td>73.831776</td>\n",
       "      <td>78.037383</td>\n",
       "      <td>82.242991</td>\n",
       "      <td>84.112150</td>\n",
       "      <td>80.841121</td>\n",
       "      <td>80.373832</td>\n",
       "      <td>81.308411</td>\n",
       "      <td>82.710280</td>\n",
       "      <td>82.242991</td>\n",
       "      <td>81.308411</td>\n",
       "      <td>Sub-Saharan Africa</td>\n",
       "      <td>Low income</td>\n",
       "    </tr>\n",
       "    <tr>\n",
       "      <th>Population growth (annual %)</th>\n",
       "      <td>Turks and Caicos Islands</td>\n",
       "      <td>99.532710</td>\n",
       "      <td>100.000000</td>\n",
       "      <td>100.000000</td>\n",
       "      <td>100.000000</td>\n",
       "      <td>99.065421</td>\n",
       "      <td>98.598131</td>\n",
       "      <td>98.130841</td>\n",
       "      <td>93.925234</td>\n",
       "      <td>87.383178</td>\n",
       "      <td>79.906542</td>\n",
       "      <td>78.971963</td>\n",
       "      <td>78.037383</td>\n",
       "      <td>71.962617</td>\n",
       "      <td>71.495327</td>\n",
       "      <td>69.158879</td>\n",
       "      <td>64.953271</td>\n",
       "      <td>Latin America &amp; Caribbean</td>\n",
       "      <td>High income: nonOECD</td>\n",
       "    </tr>\n",
       "    <tr>\n",
       "      <th>Population growth (annual %)</th>\n",
       "      <td>United Arab Emirates</td>\n",
       "      <td>99.065421</td>\n",
       "      <td>99.532710</td>\n",
       "      <td>99.532710</td>\n",
       "      <td>99.532710</td>\n",
       "      <td>99.532710</td>\n",
       "      <td>99.532710</td>\n",
       "      <td>99.532710</td>\n",
       "      <td>99.532710</td>\n",
       "      <td>99.532710</td>\n",
       "      <td>99.532710</td>\n",
       "      <td>99.532710</td>\n",
       "      <td>97.663551</td>\n",
       "      <td>81.775701</td>\n",
       "      <td>49.065421</td>\n",
       "      <td>33.177570</td>\n",
       "      <td>39.252336</td>\n",
       "      <td>Middle East &amp; North Africa</td>\n",
       "      <td>High income: nonOECD</td>\n",
       "    </tr>\n",
       "  </tbody>\n",
       "</table>\n",
       "</div>"
      ],
      "text/plain": [
       "                                          Country Name        2000  \\\n",
       "Indicator Name                                                       \n",
       "Population growth (annual %)                    Rwanda  100.000000   \n",
       "Population growth (annual %)  Turks and Caicos Islands   99.532710   \n",
       "Population growth (annual %)      United Arab Emirates   99.065421   \n",
       "\n",
       "                                    2001        2002        2003       2004  \\\n",
       "Indicator Name                                                                \n",
       "Population growth (annual %)   94.859813   76.168224   60.280374  58.411215   \n",
       "Population growth (annual %)  100.000000  100.000000  100.000000  99.065421   \n",
       "Population growth (annual %)   99.532710   99.532710   99.532710  99.532710   \n",
       "\n",
       "                                   2005       2006       2007       2008  \\\n",
       "Indicator Name                                                             \n",
       "Population growth (annual %)  67.289720  73.831776  78.037383  82.242991   \n",
       "Population growth (annual %)  98.598131  98.130841  93.925234  87.383178   \n",
       "Population growth (annual %)  99.532710  99.532710  99.532710  99.532710   \n",
       "\n",
       "                                   2009       2010       2011       2012  \\\n",
       "Indicator Name                                                             \n",
       "Population growth (annual %)  84.112150  80.841121  80.373832  81.308411   \n",
       "Population growth (annual %)  79.906542  78.971963  78.037383  71.962617   \n",
       "Population growth (annual %)  99.532710  99.532710  97.663551  81.775701   \n",
       "\n",
       "                                   2013       2014       2015  \\\n",
       "Indicator Name                                                  \n",
       "Population growth (annual %)  82.710280  82.242991  81.308411   \n",
       "Population growth (annual %)  71.495327  69.158879  64.953271   \n",
       "Population growth (annual %)  49.065421  33.177570  39.252336   \n",
       "\n",
       "                                                  Region          Income Group  \n",
       "Indicator Name                                                                  \n",
       "Population growth (annual %)          Sub-Saharan Africa            Low income  \n",
       "Population growth (annual %)   Latin America & Caribbean  High income: nonOECD  \n",
       "Population growth (annual %)  Middle East & North Africa  High income: nonOECD  "
      ]
     },
     "execution_count": 49,
     "metadata": {},
     "output_type": "execute_result"
    }
   ],
   "source": [
    "subset_1.sort_values(by=['2000'], ascending=False).head(3)"
   ]
  },
  {
   "cell_type": "code",
   "execution_count": 50,
   "id": "6935b8ec",
   "metadata": {},
   "outputs": [
    {
     "data": {
      "text/html": [
       "<div>\n",
       "<style scoped>\n",
       "    .dataframe tbody tr th:only-of-type {\n",
       "        vertical-align: middle;\n",
       "    }\n",
       "\n",
       "    .dataframe tbody tr th {\n",
       "        vertical-align: top;\n",
       "    }\n",
       "\n",
       "    .dataframe thead th {\n",
       "        text-align: right;\n",
       "    }\n",
       "</style>\n",
       "<table border=\"1\" class=\"dataframe\">\n",
       "  <thead>\n",
       "    <tr style=\"text-align: right;\">\n",
       "      <th></th>\n",
       "      <th>Country Name</th>\n",
       "      <th>2000</th>\n",
       "      <th>2001</th>\n",
       "      <th>2002</th>\n",
       "      <th>2003</th>\n",
       "      <th>2004</th>\n",
       "      <th>2005</th>\n",
       "      <th>2006</th>\n",
       "      <th>2007</th>\n",
       "      <th>2008</th>\n",
       "      <th>2009</th>\n",
       "      <th>2010</th>\n",
       "      <th>2011</th>\n",
       "      <th>2012</th>\n",
       "      <th>2013</th>\n",
       "      <th>2014</th>\n",
       "      <th>2015</th>\n",
       "      <th>Region</th>\n",
       "      <th>Income Group</th>\n",
       "    </tr>\n",
       "    <tr>\n",
       "      <th>Indicator Name</th>\n",
       "      <th></th>\n",
       "      <th></th>\n",
       "      <th></th>\n",
       "      <th></th>\n",
       "      <th></th>\n",
       "      <th></th>\n",
       "      <th></th>\n",
       "      <th></th>\n",
       "      <th></th>\n",
       "      <th></th>\n",
       "      <th></th>\n",
       "      <th></th>\n",
       "      <th></th>\n",
       "      <th></th>\n",
       "      <th></th>\n",
       "      <th></th>\n",
       "      <th></th>\n",
       "      <th></th>\n",
       "      <th></th>\n",
       "    </tr>\n",
       "  </thead>\n",
       "  <tbody>\n",
       "    <tr>\n",
       "      <th>Population, total</th>\n",
       "      <td>China</td>\n",
       "      <td>100.000000</td>\n",
       "      <td>100.000000</td>\n",
       "      <td>100.000000</td>\n",
       "      <td>100.000000</td>\n",
       "      <td>100.000000</td>\n",
       "      <td>100.000000</td>\n",
       "      <td>100.000000</td>\n",
       "      <td>100.000000</td>\n",
       "      <td>100.000000</td>\n",
       "      <td>100.000000</td>\n",
       "      <td>100.000000</td>\n",
       "      <td>100.000000</td>\n",
       "      <td>100.000000</td>\n",
       "      <td>100.000000</td>\n",
       "      <td>100.000000</td>\n",
       "      <td>100.000000</td>\n",
       "      <td>East Asia &amp; Pacific</td>\n",
       "      <td>Upper middle income</td>\n",
       "    </tr>\n",
       "    <tr>\n",
       "      <th>Population, total</th>\n",
       "      <td>India</td>\n",
       "      <td>99.532710</td>\n",
       "      <td>99.532710</td>\n",
       "      <td>99.532710</td>\n",
       "      <td>99.532710</td>\n",
       "      <td>99.532710</td>\n",
       "      <td>99.532710</td>\n",
       "      <td>99.532710</td>\n",
       "      <td>99.532710</td>\n",
       "      <td>99.532710</td>\n",
       "      <td>99.532710</td>\n",
       "      <td>99.532710</td>\n",
       "      <td>99.532710</td>\n",
       "      <td>99.532710</td>\n",
       "      <td>99.532710</td>\n",
       "      <td>99.532710</td>\n",
       "      <td>99.532710</td>\n",
       "      <td>South Asia</td>\n",
       "      <td>Lower middle income</td>\n",
       "    </tr>\n",
       "    <tr>\n",
       "      <th>Population, total</th>\n",
       "      <td>United States</td>\n",
       "      <td>99.065421</td>\n",
       "      <td>99.065421</td>\n",
       "      <td>99.065421</td>\n",
       "      <td>99.065421</td>\n",
       "      <td>99.065421</td>\n",
       "      <td>99.065421</td>\n",
       "      <td>99.065421</td>\n",
       "      <td>99.065421</td>\n",
       "      <td>99.065421</td>\n",
       "      <td>99.065421</td>\n",
       "      <td>99.065421</td>\n",
       "      <td>99.065421</td>\n",
       "      <td>99.065421</td>\n",
       "      <td>99.065421</td>\n",
       "      <td>99.065421</td>\n",
       "      <td>99.065421</td>\n",
       "      <td>North America</td>\n",
       "      <td>High income: OECD</td>\n",
       "    </tr>\n",
       "  </tbody>\n",
       "</table>\n",
       "</div>"
      ],
      "text/plain": [
       "                    Country Name        2000        2001        2002  \\\n",
       "Indicator Name                                                         \n",
       "Population, total          China  100.000000  100.000000  100.000000   \n",
       "Population, total          India   99.532710   99.532710   99.532710   \n",
       "Population, total  United States   99.065421   99.065421   99.065421   \n",
       "\n",
       "                         2003        2004        2005        2006        2007  \\\n",
       "Indicator Name                                                                  \n",
       "Population, total  100.000000  100.000000  100.000000  100.000000  100.000000   \n",
       "Population, total   99.532710   99.532710   99.532710   99.532710   99.532710   \n",
       "Population, total   99.065421   99.065421   99.065421   99.065421   99.065421   \n",
       "\n",
       "                         2008        2009        2010        2011        2012  \\\n",
       "Indicator Name                                                                  \n",
       "Population, total  100.000000  100.000000  100.000000  100.000000  100.000000   \n",
       "Population, total   99.532710   99.532710   99.532710   99.532710   99.532710   \n",
       "Population, total   99.065421   99.065421   99.065421   99.065421   99.065421   \n",
       "\n",
       "                         2013        2014        2015               Region  \\\n",
       "Indicator Name                                                               \n",
       "Population, total  100.000000  100.000000  100.000000  East Asia & Pacific   \n",
       "Population, total   99.532710   99.532710   99.532710           South Asia   \n",
       "Population, total   99.065421   99.065421   99.065421        North America   \n",
       "\n",
       "                          Income Group  \n",
       "Indicator Name                          \n",
       "Population, total  Upper middle income  \n",
       "Population, total  Lower middle income  \n",
       "Population, total    High income: OECD  "
      ]
     },
     "execution_count": 50,
     "metadata": {},
     "output_type": "execute_result"
    }
   ],
   "source": [
    "subset_2.sort_values(by=['2000'], ascending=False).head(3)"
   ]
  },
  {
   "cell_type": "markdown",
   "id": "84081ca5",
   "metadata": {},
   "source": [
    "Nous retrouvons bien les mêmes pays en tête d'affiche.\n",
    "\n",
    "Nous considérons que certains indicateurs ont une importance plus grande, nous multiplions leur score par 2.  Les indicateurs concernés sont \"Population, total\" et \"Internet users (per 100 people)\"."
   ]
  },
  {
   "cell_type": "code",
   "execution_count": 51,
   "id": "9f1bf8b7",
   "metadata": {},
   "outputs": [],
   "source": [
    "for year in liste_annees:\n",
    "    subset_2[year] = 2 * subset_2[year]\n",
    "    subset_4[year] = 2 * subset_4[year]"
   ]
  },
  {
   "cell_type": "code",
   "execution_count": 52,
   "id": "c82c1227",
   "metadata": {},
   "outputs": [],
   "source": [
    "df_concat = pd.concat([subset_1,subset_2,subset_3,subset_4])"
   ]
  },
  {
   "cell_type": "code",
   "execution_count": 53,
   "id": "c89a44c4",
   "metadata": {},
   "outputs": [],
   "source": [
    "df_concat = df_concat.reset_index()"
   ]
  },
  {
   "cell_type": "markdown",
   "id": "fb18e66c",
   "metadata": {},
   "source": [
    "Nous allons maintenant faire la moyenne, pour chaque pays et pour chaque année, du score de chaque indicateur."
   ]
  },
  {
   "cell_type": "code",
   "execution_count": 54,
   "id": "1f6c418e",
   "metadata": {},
   "outputs": [
    {
     "data": {
      "text/html": [
       "<div>\n",
       "<style scoped>\n",
       "    .dataframe tbody tr th:only-of-type {\n",
       "        vertical-align: middle;\n",
       "    }\n",
       "\n",
       "    .dataframe tbody tr th {\n",
       "        vertical-align: top;\n",
       "    }\n",
       "\n",
       "    .dataframe thead th {\n",
       "        text-align: right;\n",
       "    }\n",
       "</style>\n",
       "<table border=\"1\" class=\"dataframe\">\n",
       "  <thead>\n",
       "    <tr style=\"text-align: right;\">\n",
       "      <th></th>\n",
       "      <th>2000</th>\n",
       "      <th>2001</th>\n",
       "      <th>2002</th>\n",
       "      <th>2003</th>\n",
       "      <th>2004</th>\n",
       "      <th>2005</th>\n",
       "      <th>2006</th>\n",
       "      <th>2007</th>\n",
       "      <th>2008</th>\n",
       "      <th>2009</th>\n",
       "      <th>2010</th>\n",
       "      <th>2011</th>\n",
       "      <th>2012</th>\n",
       "      <th>2013</th>\n",
       "      <th>2014</th>\n",
       "      <th>2015</th>\n",
       "    </tr>\n",
       "    <tr>\n",
       "      <th>Country Name</th>\n",
       "      <th></th>\n",
       "      <th></th>\n",
       "      <th></th>\n",
       "      <th></th>\n",
       "      <th></th>\n",
       "      <th></th>\n",
       "      <th></th>\n",
       "      <th></th>\n",
       "      <th></th>\n",
       "      <th></th>\n",
       "      <th></th>\n",
       "      <th></th>\n",
       "      <th></th>\n",
       "      <th></th>\n",
       "      <th></th>\n",
       "      <th></th>\n",
       "    </tr>\n",
       "  </thead>\n",
       "  <tbody>\n",
       "    <tr>\n",
       "      <th>Afghanistan</th>\n",
       "      <td>78.383610</td>\n",
       "      <td>66.380825</td>\n",
       "      <td>66.451282</td>\n",
       "      <td>66.580765</td>\n",
       "      <td>66.814410</td>\n",
       "      <td>74.099410</td>\n",
       "      <td>74.060647</td>\n",
       "      <td>70.949397</td>\n",
       "      <td>68.044374</td>\n",
       "      <td>71.751531</td>\n",
       "      <td>72.204022</td>\n",
       "      <td>74.190003</td>\n",
       "      <td>74.177300</td>\n",
       "      <td>72.319487</td>\n",
       "      <td>72.058425</td>\n",
       "      <td>70.966946</td>\n",
       "    </tr>\n",
       "    <tr>\n",
       "      <th>Albania</th>\n",
       "      <td>37.102555</td>\n",
       "      <td>41.459308</td>\n",
       "      <td>39.854089</td>\n",
       "      <td>41.809775</td>\n",
       "      <td>44.066602</td>\n",
       "      <td>50.716848</td>\n",
       "      <td>53.833605</td>\n",
       "      <td>54.948310</td>\n",
       "      <td>59.037628</td>\n",
       "      <td>64.951054</td>\n",
       "      <td>65.228968</td>\n",
       "      <td>66.065674</td>\n",
       "      <td>65.454145</td>\n",
       "      <td>64.422557</td>\n",
       "      <td>63.857394</td>\n",
       "      <td>62.256451</td>\n",
       "    </tr>\n",
       "    <tr>\n",
       "      <th>Algeria</th>\n",
       "      <td>83.873398</td>\n",
       "      <td>83.134482</td>\n",
       "      <td>84.263943</td>\n",
       "      <td>85.603824</td>\n",
       "      <td>90.124631</td>\n",
       "      <td>90.855078</td>\n",
       "      <td>90.789764</td>\n",
       "      <td>91.210689</td>\n",
       "      <td>91.041128</td>\n",
       "      <td>91.750446</td>\n",
       "      <td>89.975709</td>\n",
       "      <td>90.307185</td>\n",
       "      <td>90.770283</td>\n",
       "      <td>91.105994</td>\n",
       "      <td>92.452247</td>\n",
       "      <td>93.114419</td>\n",
       "    </tr>\n",
       "  </tbody>\n",
       "</table>\n",
       "</div>"
      ],
      "text/plain": [
       "                   2000       2001       2002       2003       2004  \\\n",
       "Country Name                                                          \n",
       "Afghanistan   78.383610  66.380825  66.451282  66.580765  66.814410   \n",
       "Albania       37.102555  41.459308  39.854089  41.809775  44.066602   \n",
       "Algeria       83.873398  83.134482  84.263943  85.603824  90.124631   \n",
       "\n",
       "                   2005       2006       2007       2008       2009  \\\n",
       "Country Name                                                          \n",
       "Afghanistan   74.099410  74.060647  70.949397  68.044374  71.751531   \n",
       "Albania       50.716848  53.833605  54.948310  59.037628  64.951054   \n",
       "Algeria       90.855078  90.789764  91.210689  91.041128  91.750446   \n",
       "\n",
       "                   2010       2011       2012       2013       2014       2015  \n",
       "Country Name                                                                    \n",
       "Afghanistan   72.204022  74.190003  74.177300  72.319487  72.058425  70.966946  \n",
       "Albania       65.228968  66.065674  65.454145  64.422557  63.857394  62.256451  \n",
       "Algeria       89.975709  90.307185  90.770283  91.105994  92.452247  93.114419  "
      ]
     },
     "execution_count": 54,
     "metadata": {},
     "output_type": "execute_result"
    }
   ],
   "source": [
    "df_mean_values = df_concat.groupby(['Country Name']).mean()\n",
    "df_mean_values.head(3)"
   ]
  },
  {
   "cell_type": "markdown",
   "id": "27ad20e8",
   "metadata": {},
   "source": [
    "La moyenne que nous venons de réaliser, nous donne des scores allant de 0 à 150.  Par soucis de lisibilité, nous allons revenir à une base 100."
   ]
  },
  {
   "cell_type": "code",
   "execution_count": 55,
   "id": "783dcb9c",
   "metadata": {},
   "outputs": [],
   "source": [
    "for i in liste_annees:\n",
    "    df_mean_values[i] = df_mean_values[i]/150*100"
   ]
  },
  {
   "cell_type": "code",
   "execution_count": 56,
   "id": "7968e1a5",
   "metadata": {},
   "outputs": [
    {
     "data": {
      "text/html": [
       "<div>\n",
       "<style scoped>\n",
       "    .dataframe tbody tr th:only-of-type {\n",
       "        vertical-align: middle;\n",
       "    }\n",
       "\n",
       "    .dataframe tbody tr th {\n",
       "        vertical-align: top;\n",
       "    }\n",
       "\n",
       "    .dataframe thead th {\n",
       "        text-align: right;\n",
       "    }\n",
       "</style>\n",
       "<table border=\"1\" class=\"dataframe\">\n",
       "  <thead>\n",
       "    <tr style=\"text-align: right;\">\n",
       "      <th></th>\n",
       "      <th>2000</th>\n",
       "      <th>2001</th>\n",
       "      <th>2002</th>\n",
       "      <th>2003</th>\n",
       "      <th>2004</th>\n",
       "      <th>2005</th>\n",
       "      <th>2006</th>\n",
       "      <th>2007</th>\n",
       "      <th>2008</th>\n",
       "      <th>2009</th>\n",
       "      <th>2010</th>\n",
       "      <th>2011</th>\n",
       "      <th>2012</th>\n",
       "      <th>2013</th>\n",
       "      <th>2014</th>\n",
       "      <th>2015</th>\n",
       "    </tr>\n",
       "    <tr>\n",
       "      <th>Country Name</th>\n",
       "      <th></th>\n",
       "      <th></th>\n",
       "      <th></th>\n",
       "      <th></th>\n",
       "      <th></th>\n",
       "      <th></th>\n",
       "      <th></th>\n",
       "      <th></th>\n",
       "      <th></th>\n",
       "      <th></th>\n",
       "      <th></th>\n",
       "      <th></th>\n",
       "      <th></th>\n",
       "      <th></th>\n",
       "      <th></th>\n",
       "      <th></th>\n",
       "    </tr>\n",
       "  </thead>\n",
       "  <tbody>\n",
       "    <tr>\n",
       "      <th>Afghanistan</th>\n",
       "      <td>52.255740</td>\n",
       "      <td>44.253883</td>\n",
       "      <td>44.300854</td>\n",
       "      <td>44.387176</td>\n",
       "      <td>44.542940</td>\n",
       "      <td>49.399607</td>\n",
       "      <td>49.373765</td>\n",
       "      <td>47.299598</td>\n",
       "      <td>45.362916</td>\n",
       "      <td>47.834354</td>\n",
       "      <td>48.136014</td>\n",
       "      <td>49.460002</td>\n",
       "      <td>49.451533</td>\n",
       "      <td>48.212991</td>\n",
       "      <td>48.038950</td>\n",
       "      <td>47.311297</td>\n",
       "    </tr>\n",
       "    <tr>\n",
       "      <th>Albania</th>\n",
       "      <td>24.735037</td>\n",
       "      <td>27.639539</td>\n",
       "      <td>26.569392</td>\n",
       "      <td>27.873184</td>\n",
       "      <td>29.377735</td>\n",
       "      <td>33.811232</td>\n",
       "      <td>35.889070</td>\n",
       "      <td>36.632207</td>\n",
       "      <td>39.358419</td>\n",
       "      <td>43.300703</td>\n",
       "      <td>43.485979</td>\n",
       "      <td>44.043783</td>\n",
       "      <td>43.636096</td>\n",
       "      <td>42.948372</td>\n",
       "      <td>42.571596</td>\n",
       "      <td>41.504301</td>\n",
       "    </tr>\n",
       "    <tr>\n",
       "      <th>Algeria</th>\n",
       "      <td>55.915599</td>\n",
       "      <td>55.422988</td>\n",
       "      <td>56.175962</td>\n",
       "      <td>57.069216</td>\n",
       "      <td>60.083087</td>\n",
       "      <td>60.570052</td>\n",
       "      <td>60.526510</td>\n",
       "      <td>60.807126</td>\n",
       "      <td>60.694085</td>\n",
       "      <td>61.166964</td>\n",
       "      <td>59.983806</td>\n",
       "      <td>60.204790</td>\n",
       "      <td>60.513522</td>\n",
       "      <td>60.737329</td>\n",
       "      <td>61.634832</td>\n",
       "      <td>62.076279</td>\n",
       "    </tr>\n",
       "  </tbody>\n",
       "</table>\n",
       "</div>"
      ],
      "text/plain": [
       "                   2000       2001       2002       2003       2004  \\\n",
       "Country Name                                                          \n",
       "Afghanistan   52.255740  44.253883  44.300854  44.387176  44.542940   \n",
       "Albania       24.735037  27.639539  26.569392  27.873184  29.377735   \n",
       "Algeria       55.915599  55.422988  56.175962  57.069216  60.083087   \n",
       "\n",
       "                   2005       2006       2007       2008       2009  \\\n",
       "Country Name                                                          \n",
       "Afghanistan   49.399607  49.373765  47.299598  45.362916  47.834354   \n",
       "Albania       33.811232  35.889070  36.632207  39.358419  43.300703   \n",
       "Algeria       60.570052  60.526510  60.807126  60.694085  61.166964   \n",
       "\n",
       "                   2010       2011       2012       2013       2014       2015  \n",
       "Country Name                                                                    \n",
       "Afghanistan   48.136014  49.460002  49.451533  48.212991  48.038950  47.311297  \n",
       "Albania       43.485979  44.043783  43.636096  42.948372  42.571596  41.504301  \n",
       "Algeria       59.983806  60.204790  60.513522  60.737329  61.634832  62.076279  "
      ]
     },
     "execution_count": 56,
     "metadata": {},
     "output_type": "execute_result"
    }
   ],
   "source": [
    "df_mean_values.head(3)"
   ]
  },
  {
   "cell_type": "markdown",
   "id": "53582daa",
   "metadata": {},
   "source": [
    "## Analyse graphique"
   ]
  },
  {
   "cell_type": "markdown",
   "id": "8f8dbb60",
   "metadata": {},
   "source": [
    "Observons premièrement la distribution des scores de 2015 pour chaque région (valeurs extrêmes exclues)."
   ]
  },
  {
   "cell_type": "code",
   "execution_count": 57,
   "id": "c14814f9",
   "metadata": {},
   "outputs": [],
   "source": [
    "subset_pop_growth = df_final.copy()\n",
    "subset_pop_growth = subset_pop_growth.set_index('Indicator Name')\n",
    "subset_pop_growth = subset_pop_growth.loc['Population growth (annual %)',:]\n",
    "subset_pop_growth = subset_pop_growth.reset_index()"
   ]
  },
  {
   "cell_type": "code",
   "execution_count": 58,
   "id": "cec5769e",
   "metadata": {},
   "outputs": [],
   "source": [
    "subset_pop_total = df_final.copy()\n",
    "subset_pop_total = subset_pop_total.set_index('Indicator Name')\n",
    "subset_pop_total = subset_pop_total.loc['Population, total',:]\n",
    "subset_pop_total = subset_pop_total.reset_index()"
   ]
  },
  {
   "cell_type": "code",
   "execution_count": 59,
   "id": "59d62c4c",
   "metadata": {},
   "outputs": [],
   "source": [
    "subset_GDP = df_final.copy()\n",
    "subset_GDP = subset_GDP.set_index('Indicator Name')\n",
    "subset_GDP = subset_GDP.loc['GDP per capita, PPP (current international $)',:]\n",
    "subset_GDP = subset_GDP.reset_index()"
   ]
  },
  {
   "cell_type": "code",
   "execution_count": 60,
   "id": "627635f9",
   "metadata": {},
   "outputs": [],
   "source": [
    "subset_internet = df_final.copy()\n",
    "subset_internet = subset_internet.set_index('Indicator Name')\n",
    "subset_internet = subset_internet.loc['Internet users (per 100 people)',:]\n",
    "subset_internet = subset_internet.reset_index()"
   ]
  },
  {
   "cell_type": "code",
   "execution_count": 61,
   "id": "283aa4cb",
   "metadata": {},
   "outputs": [
    {
     "data": {
      "image/png": "[encoded data removed]",
      "text/plain": [
       "<Figure size 720x504 with 1 Axes>"
      ]
     },
     "metadata": {},
     "output_type": "display_data"
    },
    {
     "data": {
      "image/png": "[encoded data removed]",
      "text/plain": [
       "<Figure size 720x504 with 1 Axes>"
      ]
     },
     "metadata": {},
     "output_type": "display_data"
    },
    {
     "data": {
      "image/png": "[encoded data removed]",
      "text/plain": [
       "<Figure size 720x504 with 1 Axes>"
      ]
     },
     "metadata": {},
     "output_type": "display_data"
    },
    {
     "data": {
      "image/png": "[encoded data removed]",
      "text/plain": [
       "<Figure size 720x504 with 1 Axes>"
      ]
     },
     "metadata": {},
     "output_type": "display_data"
    }
   ],
   "source": [
    "subsets_bis = [subset_pop_growth, subset_pop_total, subset_GDP, subset_internet]\n",
    "\n",
    "with sns.axes_style(\"darkgrid\"):\n",
    "    for df in subsets_bis:\n",
    "        plt.figure(figsize=(10, 7))\n",
    "        sns.boxplot(x = '2015', y = df['Region'], data = df, color = 'darkorange', sym = \"\")\n",
    "        plt.title(df['Indicator Name'].unique())\n",
    "        plt.show()"
   ]
  },
  {
   "cell_type": "markdown",
   "id": "35911f9e",
   "metadata": {},
   "source": [
    "Commençons par regarder l'évolution du score des 10 pays ayant le meilleur score en 2015."
   ]
  },
  {
   "cell_type": "code",
   "execution_count": 62,
   "id": "ee59b09c",
   "metadata": {},
   "outputs": [],
   "source": [
    "df_top_20 = df_mean_values.sort_values(by='2015', ascending = False).head(20)\n",
    "df_top_20_countries = df_top_20.reset_index()"
   ]
  },
  {
   "cell_type": "code",
   "execution_count": 63,
   "id": "01cf434f",
   "metadata": {},
   "outputs": [
    {
     "data": {
      "image/png": "[encoded data removed]",
      "text/plain": [
       "<Figure size 1080x720 with 1 Axes>"
      ]
     },
     "metadata": {
      "needs_background": "light"
     },
     "output_type": "display_data"
    }
   ],
   "source": [
    "fig = plt.figure(figsize=(15, 10))\n",
    "ax = plt.axes()\n",
    "plt.title('Evolution du score des 10 pays ayant le meilleur score en 2015')\n",
    "plt.style.use('seaborn-darkgrid')\n",
    "\n",
    "for country in df_top_20_countries['Country Name'].head(10):\n",
    "    ax.plot(df_top_20.loc[country], label = country)\n",
    "    plt.legend(bbox_to_anchor=(1.2, 1.05))"
   ]
  },
  {
   "cell_type": "code",
   "execution_count": null,
   "id": "4f9ea8e9",
   "metadata": {},
   "outputs": [],
   "source": [
    "fig = plt.figure(figsize=(15, 10))\n",
    "ax = plt.axes()\n",
    "plt.title('Evolution du score des 10 pays ayant le meilleur score en 2015')\n",
    "plt.style.use('seaborn-darkgrid')\n",
    "\n",
    "for country in df_top_20_countries['Country Name'].head(10):\n",
    "    ax.plot(df_top_20.loc[country], label = country)\n",
    "    plt.legend(bbox_to_anchor=(1.2, 1.05))"
   ]
  },
  {
   "cell_type": "markdown",
   "id": "7d4c92a6",
   "metadata": {},
   "source": [
    "Comparons les 20 pays ayant eu le meilleur score en 2015 :"
   ]
  },
  {
   "cell_type": "code",
   "execution_count": 64,
   "id": "8d238002",
   "metadata": {},
   "outputs": [],
   "source": [
    "liste_top_pays = df_top_20_countries['Country Name']"
   ]
  },
  {
   "cell_type": "code",
   "execution_count": 65,
   "id": "aa414583",
   "metadata": {},
   "outputs": [
    {
     "data": {
      "image/png": "[encoded data removed]",
      "text/plain": [
       "<Figure size 1080x720 with 1 Axes>"
      ]
     },
     "metadata": {},
     "output_type": "display_data"
    }
   ],
   "source": [
    "fig,ax = plt.subplots()\n",
    "\n",
    "fig.set_size_inches([15,10])\n",
    "\n",
    "ax.bar(df_top_20_countries['Country Name'], height = df_top_20_countries['2015'], color = 'darkorange')\n",
    "\n",
    "ax.set_title('Les 20 pays avec le meilleur score en 2015', fontsize = 15)\n",
    "ax.set_xlabel('Country Name', fontsize = 15)\n",
    "ax.set_ylabel('Score', fontsize = 15)\n",
    "xticks_loc = ax.get_xticks()\n",
    "\n",
    "ax.xaxis.set_major_locator(mticker.FixedLocator(xticks_loc))\n",
    "\n",
    "ax.set_xticklabels(liste_top_pays, rotation = 90, fontsize = 15)\n",
    "\n",
    "plt.show()"
   ]
  },
  {
   "cell_type": "markdown",
   "id": "5f6192a2",
   "metadata": {},
   "source": [
    "Observons maintenant l'évolution du score entre 2000 et 2015 pour nos différentes régions du monde."
   ]
  },
  {
   "cell_type": "code",
   "execution_count": 66,
   "id": "99976b7d",
   "metadata": {},
   "outputs": [],
   "source": [
    "df_mean_values_region = df_concat.groupby('Region').mean(numeric_only=True)\n",
    "df_mean_values_region_bis = df_mean_values_region.reset_index()\n",
    "\n",
    "for i in liste_annees:\n",
    "    df_mean_values_region[i] = df_mean_values_region[i]/150*100"
   ]
  },
  {
   "cell_type": "code",
   "execution_count": 67,
   "id": "9bf3b3b8",
   "metadata": {},
   "outputs": [
    {
     "data": {
      "image/png": "[encoded data removed]",
      "text/plain": [
       "<Figure size 1080x720 with 1 Axes>"
      ]
     },
     "metadata": {},
     "output_type": "display_data"
    }
   ],
   "source": [
    "fig = plt.figure(figsize=(15, 10))\n",
    "ax = plt.axes()\n",
    "plt.title('Evolution du score par région entre 2000 et 2015')\n",
    "\n",
    "for region in df_mean_values_region_bis['Region'].unique():\n",
    "    ax.plot(df_mean_values_region.loc[region], label = region)\n",
    "    plt.legend(bbox_to_anchor=(1.2, 1.05))"
   ]
  },
  {
   "cell_type": "markdown",
   "id": "04b553cd",
   "metadata": {},
   "source": [
    "Qu'en est-il de l'évolution du score par Income Group entre 2000 et 2015 :"
   ]
  },
  {
   "cell_type": "code",
   "execution_count": 68,
   "id": "bdbe0c8e",
   "metadata": {},
   "outputs": [],
   "source": [
    "df_mean_values_income = df_concat.groupby('Income Group').mean(numeric_only=True)\n",
    "df_mean_values_income_bis = df_mean_values_income.reset_index()\n",
    "\n",
    "for i in liste_annees:\n",
    "    df_mean_values_income[i] = df_mean_values_income[i]/150*100"
   ]
  },
  {
   "cell_type": "code",
   "execution_count": 69,
   "id": "91c6d7fd",
   "metadata": {},
   "outputs": [
    {
     "data": {
      "image/png": "[encoded data removed]",
      "text/plain": [
       "<Figure size 1080x720 with 1 Axes>"
      ]
     },
     "metadata": {},
     "output_type": "display_data"
    }
   ],
   "source": [
    "fig = plt.figure(figsize=(15, 10))\n",
    "ax = plt.axes()\n",
    "plt.title('Evolution score par Income Group entre 2000 et 2015')\n",
    "\n",
    "for group in df_mean_values_income_bis['Income Group'].unique():\n",
    "    ax.plot(df_mean_values_income.loc[group], label = group)\n",
    "    plt.legend(bbox_to_anchor=(1.2, 1.05))"
   ]
  },
  {
   "cell_type": "markdown",
   "id": "98044aaf",
   "metadata": {},
   "source": [
    "Créons maintenant une carte du monde qui met en avant les 20 pays ayant le meilleur score en 2015.\n",
    "\n",
    "Pour cela, nous allons devoir réutiliser nos jeux de données initiaux *ed_stats_data* et *ed_stats_country* afin d'obtenir le code à deux lettres de chaque pays."
   ]
  },
  {
   "cell_type": "code",
   "execution_count": 70,
   "id": "817beeea",
   "metadata": {},
   "outputs": [],
   "source": [
    "df_map = df_top_20_countries[['Country Name','2015']].merge(ed_stats_data[['Country Name','Country Code']],\\\n",
    "                                   on = 'Country Name', how = 'left').drop_duplicates()\n",
    "\n",
    "df_map = df_map.merge(ed_stats_country[['Country Code', '2-alpha code']],\\\n",
    "                      on = 'Country Code', how = 'left').drop_duplicates()"
   ]
  },
  {
   "cell_type": "code",
   "execution_count": 71,
   "id": "aab2b08c",
   "metadata": {},
   "outputs": [
    {
     "data": {
      "text/html": [
       "<div>\n",
       "<style scoped>\n",
       "    .dataframe tbody tr th:only-of-type {\n",
       "        vertical-align: middle;\n",
       "    }\n",
       "\n",
       "    .dataframe tbody tr th {\n",
       "        vertical-align: top;\n",
       "    }\n",
       "\n",
       "    .dataframe thead th {\n",
       "        text-align: right;\n",
       "    }\n",
       "</style>\n",
       "<table border=\"1\" class=\"dataframe\">\n",
       "  <thead>\n",
       "    <tr style=\"text-align: right;\">\n",
       "      <th></th>\n",
       "      <th>Country Name</th>\n",
       "      <th>2015</th>\n",
       "      <th>Country Code</th>\n",
       "      <th>2-alpha code</th>\n",
       "    </tr>\n",
       "  </thead>\n",
       "  <tbody>\n",
       "    <tr>\n",
       "      <th>0</th>\n",
       "      <td>Germany</td>\n",
       "      <td>82.200191</td>\n",
       "      <td>DEU</td>\n",
       "      <td>DE</td>\n",
       "    </tr>\n",
       "    <tr>\n",
       "      <th>1</th>\n",
       "      <td>United Kingdom</td>\n",
       "      <td>81.650884</td>\n",
       "      <td>GBR</td>\n",
       "      <td>GB</td>\n",
       "    </tr>\n",
       "    <tr>\n",
       "      <th>2</th>\n",
       "      <td>United States</td>\n",
       "      <td>79.779803</td>\n",
       "      <td>USA</td>\n",
       "      <td>US</td>\n",
       "    </tr>\n",
       "    <tr>\n",
       "      <th>3</th>\n",
       "      <td>Saudi Arabia</td>\n",
       "      <td>79.487597</td>\n",
       "      <td>SAU</td>\n",
       "      <td>SA</td>\n",
       "    </tr>\n",
       "    <tr>\n",
       "      <th>4</th>\n",
       "      <td>Japan</td>\n",
       "      <td>78.810590</td>\n",
       "      <td>JPN</td>\n",
       "      <td>JP</td>\n",
       "    </tr>\n",
       "    <tr>\n",
       "      <th>5</th>\n",
       "      <td>Canada</td>\n",
       "      <td>78.583932</td>\n",
       "      <td>CAN</td>\n",
       "      <td>CA</td>\n",
       "    </tr>\n",
       "    <tr>\n",
       "      <th>6</th>\n",
       "      <td>Australia</td>\n",
       "      <td>78.293999</td>\n",
       "      <td>AUS</td>\n",
       "      <td>AU</td>\n",
       "    </tr>\n",
       "    <tr>\n",
       "      <th>7</th>\n",
       "      <td>Korea, Rep.</td>\n",
       "      <td>78.249115</td>\n",
       "      <td>KOR</td>\n",
       "      <td>KR</td>\n",
       "    </tr>\n",
       "    <tr>\n",
       "      <th>8</th>\n",
       "      <td>France</td>\n",
       "      <td>77.308834</td>\n",
       "      <td>FRA</td>\n",
       "      <td>FR</td>\n",
       "    </tr>\n",
       "    <tr>\n",
       "      <th>9</th>\n",
       "      <td>Qatar</td>\n",
       "      <td>76.473229</td>\n",
       "      <td>QAT</td>\n",
       "      <td>QA</td>\n",
       "    </tr>\n",
       "  </tbody>\n",
       "</table>\n",
       "</div>"
      ],
      "text/plain": [
       "     Country Name       2015 Country Code 2-alpha code\n",
       "0         Germany  82.200191          DEU           DE\n",
       "1  United Kingdom  81.650884          GBR           GB\n",
       "2   United States  79.779803          USA           US\n",
       "3    Saudi Arabia  79.487597          SAU           SA\n",
       "4           Japan  78.810590          JPN           JP\n",
       "5          Canada  78.583932          CAN           CA\n",
       "6       Australia  78.293999          AUS           AU\n",
       "7     Korea, Rep.  78.249115          KOR           KR\n",
       "8          France  77.308834          FRA           FR\n",
       "9           Qatar  76.473229          QAT           QA"
      ]
     },
     "execution_count": 71,
     "metadata": {},
     "output_type": "execute_result"
    }
   ],
   "source": [
    "df_map.head(10)"
   ]
  },
  {
   "cell_type": "code",
   "execution_count": 72,
   "id": "bb56c465",
   "metadata": {},
   "outputs": [],
   "source": [
    "top_countries_values = round(df_map['2015'], 2).tolist()\n",
    "top_alpha_code = df_map['2-alpha code'].tolist()\n",
    "\n",
    "top_alpha_code = [x.lower() for x in top_alpha_code]"
   ]
  },
  {
   "cell_type": "code",
   "execution_count": 73,
   "id": "6f5a5df7",
   "metadata": {},
   "outputs": [
    {
     "name": "stdout",
     "output_type": "stream",
     "text": [
      "{'de': 82.2, 'gb': 81.65, 'us': 79.78, 'sa': 79.49, 'jp': 78.81, 'ca': 78.58, 'au': 78.29, 'kr': 78.25, 'fr': 77.31, 'qa': 76.47, 'nl': 73.88, 'se': 73.14, 'my': 73.09, 'kw': 72.84, 'ae': 72.56, 'ru': 72.01, 'es': 71.88, 'ch': 71.78, 'bh': 70.91, 'no': 70.75}\n"
     ]
    }
   ],
   "source": [
    "zip_object = zip(top_alpha_code, top_countries_values)\n",
    "map_dictionary = dict(zip_object)\n",
    "\n",
    "print(map_dictionary)"
   ]
  },
  {
   "cell_type": "code",
   "execution_count": 74,
   "id": "d38e8f77",
   "metadata": {
    "scrolled": true
   },
   "outputs": [],
   "source": [
    "worldmap =  pygal.maps.world.World()\n",
    "\n",
    "worldmap.title = 'Les 20 pays avec le meilleur score en 2015'\n",
    "\n",
    "worldmap.add('Données de 2015', map_dictionary)\n",
    "\n",
    "\n",
    "worldmap.render_to_file('mymap.html')"
   ]
  },
  {
   "cell_type": "code",
   "execution_count": null,
   "id": "ed92e04f",
   "metadata": {},
   "outputs": [],
   "source": []
  }
 ],
 "metadata": {
  "kernelspec": {
   "display_name": "Python 3",
   "language": "python",
   "name": "python3"
  },
  "language_info": {
   "codemirror_mode": {
    "name": "ipython",
    "version": 3
   },
   "file_extension": ".py",
   "mimetype": "text/x-python",
   "name": "python",
   "nbconvert_exporter": "python",
   "pygments_lexer": "ipython3",
   "version": "3.8.8"
  }
 },
 "nbformat": 4,
 "nbformat_minor": 5
}
